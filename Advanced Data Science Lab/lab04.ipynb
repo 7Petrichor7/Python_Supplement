{
 "cells": [
  {
   "cell_type": "code",
   "execution_count": 329,
   "id": "39b3d489-0ff6-4c43-b6e9-95946ecc9356",
   "metadata": {},
   "outputs": [],
   "source": [
    "import pandas as pd\n",
    "import numpy as np\n",
    "import matplotlib.pyplot as plt\n",
    "from sklearn.model_selection import cross_val_score\n",
    "from sklearn.linear_model import LogisticRegression"
   ]
  },
  {
   "cell_type": "code",
   "execution_count": 330,
   "id": "724ceeb2-3303-433b-9d61-6194ba17945a",
   "metadata": {},
   "outputs": [
    {
     "data": {
      "text/html": [
       "<div>\n",
       "<style scoped>\n",
       "    .dataframe tbody tr th:only-of-type {\n",
       "        vertical-align: middle;\n",
       "    }\n",
       "\n",
       "    .dataframe tbody tr th {\n",
       "        vertical-align: top;\n",
       "    }\n",
       "\n",
       "    .dataframe thead th {\n",
       "        text-align: right;\n",
       "    }\n",
       "</style>\n",
       "<table border=\"1\" class=\"dataframe\">\n",
       "  <thead>\n",
       "    <tr style=\"text-align: right;\">\n",
       "      <th></th>\n",
       "      <th>id</th>\n",
       "      <th>diagnosis</th>\n",
       "      <th>radius.mean</th>\n",
       "      <th>texture.mean</th>\n",
       "      <th>perimeter.mean</th>\n",
       "      <th>area.mean</th>\n",
       "      <th>smoothness.mean</th>\n",
       "      <th>compactness.mean</th>\n",
       "      <th>concavity.mean</th>\n",
       "      <th>concpoints.mean</th>\n",
       "      <th>...</th>\n",
       "      <th>radius.worst</th>\n",
       "      <th>texture.worst</th>\n",
       "      <th>perimeter.worst</th>\n",
       "      <th>area.worst</th>\n",
       "      <th>smoothness.worst</th>\n",
       "      <th>compactness.worst</th>\n",
       "      <th>concavity.worst</th>\n",
       "      <th>concpoints.worst</th>\n",
       "      <th>symmetry.worst</th>\n",
       "      <th>fracdim.worst</th>\n",
       "    </tr>\n",
       "  </thead>\n",
       "  <tbody>\n",
       "    <tr>\n",
       "      <th>0</th>\n",
       "      <td>842302</td>\n",
       "      <td>M</td>\n",
       "      <td>17.99</td>\n",
       "      <td>10.38</td>\n",
       "      <td>122.80</td>\n",
       "      <td>1001.0</td>\n",
       "      <td>0.11840</td>\n",
       "      <td>0.27760</td>\n",
       "      <td>0.3001</td>\n",
       "      <td>0.14710</td>\n",
       "      <td>...</td>\n",
       "      <td>25.38</td>\n",
       "      <td>17.33</td>\n",
       "      <td>184.60</td>\n",
       "      <td>2019.0</td>\n",
       "      <td>0.1622</td>\n",
       "      <td>0.6656</td>\n",
       "      <td>0.7119</td>\n",
       "      <td>0.2654</td>\n",
       "      <td>0.4601</td>\n",
       "      <td>0.11890</td>\n",
       "    </tr>\n",
       "    <tr>\n",
       "      <th>1</th>\n",
       "      <td>842517</td>\n",
       "      <td>M</td>\n",
       "      <td>20.57</td>\n",
       "      <td>17.77</td>\n",
       "      <td>132.90</td>\n",
       "      <td>1326.0</td>\n",
       "      <td>0.08474</td>\n",
       "      <td>0.07864</td>\n",
       "      <td>0.0869</td>\n",
       "      <td>0.07017</td>\n",
       "      <td>...</td>\n",
       "      <td>24.99</td>\n",
       "      <td>23.41</td>\n",
       "      <td>158.80</td>\n",
       "      <td>1956.0</td>\n",
       "      <td>0.1238</td>\n",
       "      <td>0.1866</td>\n",
       "      <td>0.2416</td>\n",
       "      <td>0.1860</td>\n",
       "      <td>0.2750</td>\n",
       "      <td>0.08902</td>\n",
       "    </tr>\n",
       "    <tr>\n",
       "      <th>2</th>\n",
       "      <td>84300903</td>\n",
       "      <td>M</td>\n",
       "      <td>19.69</td>\n",
       "      <td>21.25</td>\n",
       "      <td>130.00</td>\n",
       "      <td>1203.0</td>\n",
       "      <td>0.10960</td>\n",
       "      <td>0.15990</td>\n",
       "      <td>0.1974</td>\n",
       "      <td>0.12790</td>\n",
       "      <td>...</td>\n",
       "      <td>23.57</td>\n",
       "      <td>25.53</td>\n",
       "      <td>152.50</td>\n",
       "      <td>1709.0</td>\n",
       "      <td>0.1444</td>\n",
       "      <td>0.4245</td>\n",
       "      <td>0.4504</td>\n",
       "      <td>0.2430</td>\n",
       "      <td>0.3613</td>\n",
       "      <td>0.08758</td>\n",
       "    </tr>\n",
       "    <tr>\n",
       "      <th>3</th>\n",
       "      <td>84348301</td>\n",
       "      <td>M</td>\n",
       "      <td>11.42</td>\n",
       "      <td>20.38</td>\n",
       "      <td>77.58</td>\n",
       "      <td>386.1</td>\n",
       "      <td>0.14250</td>\n",
       "      <td>0.28390</td>\n",
       "      <td>0.2414</td>\n",
       "      <td>0.10520</td>\n",
       "      <td>...</td>\n",
       "      <td>14.91</td>\n",
       "      <td>26.50</td>\n",
       "      <td>98.87</td>\n",
       "      <td>567.7</td>\n",
       "      <td>0.2098</td>\n",
       "      <td>0.8663</td>\n",
       "      <td>0.6869</td>\n",
       "      <td>0.2575</td>\n",
       "      <td>0.6638</td>\n",
       "      <td>0.17300</td>\n",
       "    </tr>\n",
       "    <tr>\n",
       "      <th>4</th>\n",
       "      <td>84358402</td>\n",
       "      <td>M</td>\n",
       "      <td>20.29</td>\n",
       "      <td>14.34</td>\n",
       "      <td>135.10</td>\n",
       "      <td>1297.0</td>\n",
       "      <td>0.10030</td>\n",
       "      <td>0.13280</td>\n",
       "      <td>0.1980</td>\n",
       "      <td>0.10430</td>\n",
       "      <td>...</td>\n",
       "      <td>22.54</td>\n",
       "      <td>16.67</td>\n",
       "      <td>152.20</td>\n",
       "      <td>1575.0</td>\n",
       "      <td>0.1374</td>\n",
       "      <td>0.2050</td>\n",
       "      <td>0.4000</td>\n",
       "      <td>0.1625</td>\n",
       "      <td>0.2364</td>\n",
       "      <td>0.07678</td>\n",
       "    </tr>\n",
       "  </tbody>\n",
       "</table>\n",
       "<p>5 rows × 32 columns</p>\n",
       "</div>"
      ],
      "text/plain": [
       "         id diagnosis  radius.mean  texture.mean  perimeter.mean  area.mean  \\\n",
       "0    842302         M        17.99         10.38          122.80     1001.0   \n",
       "1    842517         M        20.57         17.77          132.90     1326.0   \n",
       "2  84300903         M        19.69         21.25          130.00     1203.0   \n",
       "3  84348301         M        11.42         20.38           77.58      386.1   \n",
       "4  84358402         M        20.29         14.34          135.10     1297.0   \n",
       "\n",
       "   smoothness.mean  compactness.mean  concavity.mean  concpoints.mean  ...  \\\n",
       "0          0.11840           0.27760          0.3001          0.14710  ...   \n",
       "1          0.08474           0.07864          0.0869          0.07017  ...   \n",
       "2          0.10960           0.15990          0.1974          0.12790  ...   \n",
       "3          0.14250           0.28390          0.2414          0.10520  ...   \n",
       "4          0.10030           0.13280          0.1980          0.10430  ...   \n",
       "\n",
       "   radius.worst  texture.worst  perimeter.worst  area.worst  smoothness.worst  \\\n",
       "0         25.38          17.33           184.60      2019.0            0.1622   \n",
       "1         24.99          23.41           158.80      1956.0            0.1238   \n",
       "2         23.57          25.53           152.50      1709.0            0.1444   \n",
       "3         14.91          26.50            98.87       567.7            0.2098   \n",
       "4         22.54          16.67           152.20      1575.0            0.1374   \n",
       "\n",
       "   compactness.worst  concavity.worst  concpoints.worst  symmetry.worst  \\\n",
       "0             0.6656           0.7119            0.2654          0.4601   \n",
       "1             0.1866           0.2416            0.1860          0.2750   \n",
       "2             0.4245           0.4504            0.2430          0.3613   \n",
       "3             0.8663           0.6869            0.2575          0.6638   \n",
       "4             0.2050           0.4000            0.1625          0.2364   \n",
       "\n",
       "   fracdim.worst  \n",
       "0        0.11890  \n",
       "1        0.08902  \n",
       "2        0.08758  \n",
       "3        0.17300  \n",
       "4        0.07678  \n",
       "\n",
       "[5 rows x 32 columns]"
      ]
     },
     "execution_count": 330,
     "metadata": {},
     "output_type": "execute_result"
    }
   ],
   "source": [
    "df = pd.read_csv(\"../Data/all-data/wdbc.csv.bz2\")\n",
    "df.head()"
   ]
  },
  {
   "cell_type": "code",
   "execution_count": 331,
   "id": "1d73cd0c-c8c2-433e-abdf-8a8a95556d00",
   "metadata": {},
   "outputs": [],
   "source": [
    "#2\n",
    "df.drop(\"id\",axis=1)\n",
    "X = df.loc[:, df.columns != \"diagnosis\"].values\n",
    "y = df.diagnosis.values"
   ]
  },
  {
   "cell_type": "code",
   "execution_count": 332,
   "id": "686409b7-8d52-4380-87f1-9ac676f7eada",
   "metadata": {},
   "outputs": [],
   "source": [
    "x = X\n",
    "xbar = X.mean(axis = 0)\n",
    "sdx = X.std(axis = 0)"
   ]
  },
  {
   "cell_type": "code",
   "execution_count": 333,
   "id": "3a398bfc-af79-442e-9feb-0b1b642c05c8",
   "metadata": {},
   "outputs": [
    {
     "data": {
      "text/plain": [
       "array([[-0.23640517,  1.09706398, -2.07333501, ...,  2.29607613,\n",
       "         2.75062224,  1.93701461],\n",
       "       [-0.23640344,  1.82982061, -0.35363241, ...,  1.0870843 ,\n",
       "        -0.24388967,  0.28118999],\n",
       "       [ 0.43174109,  1.57988811,  0.45618695, ...,  1.95500035,\n",
       "         1.152255  ,  0.20139121],\n",
       "       ...,\n",
       "       [-0.23572747,  0.70228425,  2.0455738 , ...,  0.41406869,\n",
       "        -1.10454895, -0.31840916],\n",
       "       [-0.23572517,  1.83834103,  2.33645719, ...,  2.28998549,\n",
       "         1.91908301,  2.21963528],\n",
       "       [-0.24240586, -1.80840125,  1.22179204, ..., -1.74506282,\n",
       "        -0.04813821, -0.75120669]])"
      ]
     },
     "execution_count": 333,
     "metadata": {},
     "output_type": "execute_result"
    }
   ],
   "source": [
    "Xn = (x - xbar)/sdx\n",
    "Xn"
   ]
  },
  {
   "cell_type": "code",
   "execution_count": 334,
   "id": "f2480f64-6c09-4604-9d0c-e6e70ef75935",
   "metadata": {},
   "outputs": [],
   "source": [
    "#4(a)\n",
    "from sklearn.decomposition import PCA\n",
    "m = PCA()\n",
    "_ = m.fit(Xn)"
   ]
  },
  {
   "cell_type": "code",
   "execution_count": 335,
   "id": "e8d001f1-05bb-4947-adf0-22ad9c663be6",
   "metadata": {},
   "outputs": [
    {
     "data": {
      "text/plain": [
       "array([4.28647013e-01, 1.83767915e-01, 9.14643564e-02, 6.39147476e-02,\n",
       "       5.31875905e-02, 3.98281519e-02, 3.15572013e-02, 2.16694506e-02,\n",
       "       1.48642719e-02, 1.30042934e-02, 1.12630637e-02, 9.48033657e-03,\n",
       "       8.42409435e-03, 7.78484562e-03, 5.06366610e-03, 3.03640406e-03,\n",
       "       2.57451447e-03, 1.90471846e-03, 1.69649015e-03, 1.58457831e-03,\n",
       "       1.00228336e-03, 9.65845343e-04, 8.84855607e-04, 7.82226523e-04,\n",
       "       5.81914867e-04, 4.99346119e-04, 2.63603188e-04, 2.22519447e-04,\n",
       "       5.12689531e-05, 2.41411630e-05, 4.29161956e-06])"
      ]
     },
     "execution_count": 335,
     "metadata": {},
     "output_type": "execute_result"
    }
   ],
   "source": [
    "#4(b)\n",
    "explained_variance = m.explained_variance_ratio_\n",
    "explained_variance"
   ]
  },
  {
   "cell_type": "code",
   "execution_count": 336,
   "id": "9762c7a6-2081-4156-8ae0-7c46a1f9ad45",
   "metadata": {},
   "outputs": [
    {
     "data": {
      "text/plain": [
       "array([0.42864701, 0.61241493, 0.70387928, 0.76779403, 0.82098162,\n",
       "       0.86080977, 0.89236698, 0.91403643, 0.9289007 , 0.94190499,\n",
       "       0.95316806, 0.96264839, 0.97107249, 0.97885733, 0.983921  ,\n",
       "       0.9869574 , 0.98953192, 0.99143664, 0.99313313, 0.9947177 ,\n",
       "       0.99571999, 0.99668583, 0.99757069, 0.99835291, 0.99893483,\n",
       "       0.99943418, 0.99969778, 0.9999203 , 0.99997157, 0.99999571,\n",
       "       1.        ])"
      ]
     },
     "execution_count": 336,
     "metadata": {},
     "output_type": "execute_result"
    }
   ],
   "source": [
    "#4(c)\n",
    "cumulative_variance = np.cumsum(explained_variance)\n",
    "cumulative_variance"
   ]
  },
  {
   "cell_type": "code",
   "execution_count": 337,
   "id": "41c5606b-9703-4fb3-9eba-715b9d7ab113",
   "metadata": {},
   "outputs": [
    {
     "data": {
      "text/html": [
       "<div>\n",
       "<style scoped>\n",
       "    .dataframe tbody tr th:only-of-type {\n",
       "        vertical-align: middle;\n",
       "    }\n",
       "\n",
       "    .dataframe tbody tr th {\n",
       "        vertical-align: top;\n",
       "    }\n",
       "\n",
       "    .dataframe thead th {\n",
       "        text-align: right;\n",
       "    }\n",
       "</style>\n",
       "<table border=\"1\" class=\"dataframe\">\n",
       "  <thead>\n",
       "    <tr style=\"text-align: right;\">\n",
       "      <th></th>\n",
       "      <th>0</th>\n",
       "      <th>1</th>\n",
       "      <th>2</th>\n",
       "      <th>3</th>\n",
       "      <th>4</th>\n",
       "      <th>5</th>\n",
       "      <th>6</th>\n",
       "      <th>7</th>\n",
       "      <th>8</th>\n",
       "      <th>9</th>\n",
       "      <th>...</th>\n",
       "      <th>21</th>\n",
       "      <th>22</th>\n",
       "      <th>23</th>\n",
       "      <th>24</th>\n",
       "      <th>25</th>\n",
       "      <th>26</th>\n",
       "      <th>27</th>\n",
       "      <th>28</th>\n",
       "      <th>29</th>\n",
       "      <th>30</th>\n",
       "    </tr>\n",
       "  </thead>\n",
       "  <tbody>\n",
       "    <tr>\n",
       "      <th>0</th>\n",
       "      <td>0.022912</td>\n",
       "      <td>0.218913</td>\n",
       "      <td>0.103844</td>\n",
       "      <td>0.227535</td>\n",
       "      <td>0.221046</td>\n",
       "      <td>0.142415</td>\n",
       "      <td>0.239067</td>\n",
       "      <td>0.258280</td>\n",
       "      <td>0.260738</td>\n",
       "      <td>0.137978</td>\n",
       "      <td>...</td>\n",
       "      <td>0.228009</td>\n",
       "      <td>0.104515</td>\n",
       "      <td>0.236637</td>\n",
       "      <td>0.224932</td>\n",
       "      <td>0.127824</td>\n",
       "      <td>0.209885</td>\n",
       "      <td>0.228602</td>\n",
       "      <td>0.250746</td>\n",
       "      <td>0.122680</td>\n",
       "      <td>0.131560</td>\n",
       "    </tr>\n",
       "    <tr>\n",
       "      <th>1</th>\n",
       "      <td>-0.034068</td>\n",
       "      <td>-0.233271</td>\n",
       "      <td>-0.060044</td>\n",
       "      <td>-0.214589</td>\n",
       "      <td>-0.230669</td>\n",
       "      <td>0.186422</td>\n",
       "      <td>0.152455</td>\n",
       "      <td>0.060542</td>\n",
       "      <td>-0.034167</td>\n",
       "      <td>0.190685</td>\n",
       "      <td>...</td>\n",
       "      <td>-0.219296</td>\n",
       "      <td>-0.045501</td>\n",
       "      <td>-0.199296</td>\n",
       "      <td>-0.218985</td>\n",
       "      <td>0.172563</td>\n",
       "      <td>0.144254</td>\n",
       "      <td>0.098527</td>\n",
       "      <td>-0.007534</td>\n",
       "      <td>0.142619</td>\n",
       "      <td>0.275702</td>\n",
       "    </tr>\n",
       "    <tr>\n",
       "      <th>2</th>\n",
       "      <td>0.096938</td>\n",
       "      <td>-0.011394</td>\n",
       "      <td>0.066892</td>\n",
       "      <td>-0.012125</td>\n",
       "      <td>0.026293</td>\n",
       "      <td>-0.103182</td>\n",
       "      <td>-0.074769</td>\n",
       "      <td>0.001759</td>\n",
       "      <td>-0.027580</td>\n",
       "      <td>-0.040962</td>\n",
       "      <td>...</td>\n",
       "      <td>-0.049406</td>\n",
       "      <td>-0.039829</td>\n",
       "      <td>-0.050432</td>\n",
       "      <td>-0.013189</td>\n",
       "      <td>-0.255329</td>\n",
       "      <td>-0.234514</td>\n",
       "      <td>-0.172025</td>\n",
       "      <td>-0.170481</td>\n",
       "      <td>-0.270516</td>\n",
       "      <td>-0.229474</td>\n",
       "    </tr>\n",
       "    <tr>\n",
       "      <th>3</th>\n",
       "      <td>-0.026598</td>\n",
       "      <td>0.042188</td>\n",
       "      <td>-0.602954</td>\n",
       "      <td>0.042753</td>\n",
       "      <td>0.054115</td>\n",
       "      <td>0.158098</td>\n",
       "      <td>0.031818</td>\n",
       "      <td>0.019497</td>\n",
       "      <td>0.065785</td>\n",
       "      <td>0.067503</td>\n",
       "      <td>...</td>\n",
       "      <td>0.015660</td>\n",
       "      <td>-0.633120</td>\n",
       "      <td>0.014069</td>\n",
       "      <td>0.025971</td>\n",
       "      <td>0.014523</td>\n",
       "      <td>-0.092562</td>\n",
       "      <td>-0.074807</td>\n",
       "      <td>0.005306</td>\n",
       "      <td>-0.037129</td>\n",
       "      <td>-0.078971</td>\n",
       "    </tr>\n",
       "    <tr>\n",
       "      <th>4</th>\n",
       "      <td>-0.011328</td>\n",
       "      <td>0.038130</td>\n",
       "      <td>-0.049091</td>\n",
       "      <td>0.037716</td>\n",
       "      <td>0.010562</td>\n",
       "      <td>-0.365750</td>\n",
       "      <td>0.011787</td>\n",
       "      <td>0.086513</td>\n",
       "      <td>-0.043667</td>\n",
       "      <td>-0.305379</td>\n",
       "      <td>...</td>\n",
       "      <td>-0.004280</td>\n",
       "      <td>-0.092552</td>\n",
       "      <td>0.007599</td>\n",
       "      <td>-0.027414</td>\n",
       "      <td>-0.325860</td>\n",
       "      <td>0.121503</td>\n",
       "      <td>0.188281</td>\n",
       "      <td>0.043124</td>\n",
       "      <td>-0.244246</td>\n",
       "      <td>0.093699</td>\n",
       "    </tr>\n",
       "  </tbody>\n",
       "</table>\n",
       "<p>5 rows × 31 columns</p>\n",
       "</div>"
      ],
      "text/plain": [
       "         0         1         2         3         4         5         6   \\\n",
       "0  0.022912  0.218913  0.103844  0.227535  0.221046  0.142415  0.239067   \n",
       "1 -0.034068 -0.233271 -0.060044 -0.214589 -0.230669  0.186422  0.152455   \n",
       "2  0.096938 -0.011394  0.066892 -0.012125  0.026293 -0.103182 -0.074769   \n",
       "3 -0.026598  0.042188 -0.602954  0.042753  0.054115  0.158098  0.031818   \n",
       "4 -0.011328  0.038130 -0.049091  0.037716  0.010562 -0.365750  0.011787   \n",
       "\n",
       "         7         8         9   ...        21        22        23        24  \\\n",
       "0  0.258280  0.260738  0.137978  ...  0.228009  0.104515  0.236637  0.224932   \n",
       "1  0.060542 -0.034167  0.190685  ... -0.219296 -0.045501 -0.199296 -0.218985   \n",
       "2  0.001759 -0.027580 -0.040962  ... -0.049406 -0.039829 -0.050432 -0.013189   \n",
       "3  0.019497  0.065785  0.067503  ...  0.015660 -0.633120  0.014069  0.025971   \n",
       "4  0.086513 -0.043667 -0.305379  ... -0.004280 -0.092552  0.007599 -0.027414   \n",
       "\n",
       "         25        26        27        28        29        30  \n",
       "0  0.127824  0.209885  0.228602  0.250746  0.122680  0.131560  \n",
       "1  0.172563  0.144254  0.098527 -0.007534  0.142619  0.275702  \n",
       "2 -0.255329 -0.234514 -0.172025 -0.170481 -0.270516 -0.229474  \n",
       "3  0.014523 -0.092562 -0.074807  0.005306 -0.037129 -0.078971  \n",
       "4 -0.325860  0.121503  0.188281  0.043124 -0.244246  0.093699  \n",
       "\n",
       "[5 rows x 31 columns]"
      ]
     },
     "execution_count": 337,
     "metadata": {},
     "output_type": "execute_result"
    }
   ],
   "source": [
    "principal_component = m.components_\n",
    "pd.DataFrame(principal_component).head()"
   ]
  },
  {
   "cell_type": "markdown",
   "id": "0973f676-48f7-4962-8a2b-f87047e715d9",
   "metadata": {},
   "source": [
    "### 2 PC Regression"
   ]
  },
  {
   "cell_type": "code",
   "execution_count": 338,
   "id": "1dd24fff-9384-4512-9c7d-96f56e267c88",
   "metadata": {},
   "outputs": [
    {
     "data": {
      "text/plain": [
       "array([[ 2.00925346e+04, -2.94670704e+04,  8.16743495e+04, ...,\n",
       "         7.94891310e+01,  1.07826195e+03, -4.67781867e+01],\n",
       "       [ 2.01354694e+04, -2.95214437e+04,  8.16875643e+04, ...,\n",
       "        -2.05266266e+00,  9.23933108e+02, -2.62629298e+01],\n",
       "       [ 1.93226732e+06, -2.87274120e+06,  8.17201812e+06, ...,\n",
       "        -1.60333989e+03,  5.80516761e+04, -5.96600124e+03],\n",
       "       ...,\n",
       "       [ 2.17611357e+04, -3.20911801e+04,  8.98685397e+04, ...,\n",
       "        -5.58692633e+01,  8.04513226e+02, -2.70424371e+01],\n",
       "       [ 2.20471614e+04, -3.23742270e+04,  8.99027304e+04, ...,\n",
       "        -3.70698785e+01,  9.49690239e+02, -2.60183885e+01],\n",
       "       [ 2.26467976e+03, -3.29217548e+03,  8.99396878e+03, ...,\n",
       "        -2.06476060e+01,  1.20544388e+02,  1.27641658e+01]])"
      ]
     },
     "execution_count": 338,
     "metadata": {},
     "output_type": "execute_result"
    }
   ],
   "source": [
    "#1\n",
    "Xr = m.transform(X)\n",
    "Xr"
   ]
  },
  {
   "cell_type": "code",
   "execution_count": 339,
   "id": "3a3e216e-d940-4182-b6a3-c6e1f1ca5ed0",
   "metadata": {},
   "outputs": [
    {
     "data": {
      "text/plain": [
       "0.5782894736842106"
      ]
     },
     "execution_count": 339,
     "metadata": {},
     "output_type": "execute_result"
    }
   ],
   "source": [
    "#2 (a)\n",
    "Xa = Xr[:,[0]]\n",
    "m = LogisticRegression(max_iter = 140).fit(Xa,y)\n",
    "cv = cross_val_score(m, Xa, y, cv=10)\n",
    "cv.mean()"
   ]
  },
  {
   "cell_type": "code",
   "execution_count": 340,
   "id": "12bbc978-8bcc-48dc-b425-7fb292b5f6d1",
   "metadata": {},
   "outputs": [
    {
     "data": {
      "text/plain": [
       "0.5782894736842106"
      ]
     },
     "execution_count": 340,
     "metadata": {},
     "output_type": "execute_result"
    }
   ],
   "source": [
    "#2 (b)\n",
    "Xb = Xr[:,0:2]\n",
    "m = LogisticRegression(max_iter = 140).fit(Xb,y)\n",
    "cv = cross_val_score(m, Xb, y, cv=10)\n",
    "cv.mean()"
   ]
  },
  {
   "cell_type": "code",
   "execution_count": 346,
   "id": "8e1f7d97-b84a-4dea-b432-02371e1aa4b3",
   "metadata": {},
   "outputs": [
    {
     "data": {
      "text/plain": [
       "0.8927318295739349"
      ]
     },
     "execution_count": 346,
     "metadata": {},
     "output_type": "execute_result"
    }
   ],
   "source": [
    "#2 (c)\n",
    "Xc = Xr[:,0:3]\n",
    "m = LogisticRegression(max_iter = 140).fit(Xc,y)\n",
    "cv = cross_val_score(m, Xc, y,scoring = 'accuracy', cv=10)\n",
    "cv.mean()"
   ]
  },
  {
   "cell_type": "code",
   "execution_count": 345,
   "id": "1d20f3bd-1353-43e4-8d36-33e92e5e7d7c",
   "metadata": {},
   "outputs": [
    {
     "data": {
      "text/plain": [
       "0.8963345864661655"
      ]
     },
     "execution_count": 345,
     "metadata": {},
     "output_type": "execute_result"
    }
   ],
   "source": [
    "#3\n",
    "X = df[[\"smoothness.mean\",\"perimeter.mean\",\"texture.mean\"]].values\n",
    "y = df.diagnosis.values\n",
    "Xn = np.empty_like(X)\n",
    "for i in range(X.shape[1]):\n",
    "    Xn[:,i] = (X[:,i] - X[:,i].mean())/X[:,i].std()\n",
    "m = PCA()\n",
    "_ = m.fit(Xn)\n",
    "\n",
    "Xr = m.transform(X)\n",
    "X1 = Xr[:,[0]]\n",
    "m1 = LogisticRegression(max_iter = 140).fit(X1,y)\n",
    "cross_val_score(m1, X1, y,scoring = 'accuracy', cv=10).mean()"
   ]
  },
  {
   "cell_type": "code",
   "execution_count": 343,
   "id": "b13e33c9-78cd-4822-a184-70ab4cae3166",
   "metadata": {},
   "outputs": [
    {
     "data": {
      "text/plain": [
       "0.9139411027568922"
      ]
     },
     "execution_count": 343,
     "metadata": {},
     "output_type": "execute_result"
    }
   ],
   "source": [
    "X = df[[\"compactness.mean\",\"concavity.mean\",\"radius.worst\"]].values\n",
    "y = df.diagnosis.values\n",
    "for i in range(X.shape[1]):\n",
    "    Xn[:,i] = (X[:,i] - X[:,i].mean())/X[:,i].std()\n",
    "m = PCA()\n",
    "_ = m.fit(Xn)\n",
    "\n",
    "Xr = m.transform(X)\n",
    "X1 = Xr[:,[0]]\n",
    "m1 = LogisticRegression(max_iter = 140).fit(X1,y)\n",
    "cross_val_score(m1, X1, y, cv=10).mean()"
   ]
  },
  {
   "cell_type": "code",
   "execution_count": 344,
   "id": "3cde7714-a205-4314-aed3-83864e968c2e",
   "metadata": {},
   "outputs": [
    {
     "data": {
      "text/plain": [
       "0.7135338345864661"
      ]
     },
     "execution_count": 344,
     "metadata": {},
     "output_type": "execute_result"
    }
   ],
   "source": [
    "X = df[[\"concpoints.worst\",\"fracdim.worst\",\"smoothness.mean\"]].values\n",
    "y = df.diagnosis.values\n",
    "for i in range(X.shape[1]):\n",
    "    Xn[:,i] = (X[:,i] - X[:,i].mean())/X[:,i].std()\n",
    "m = PCA()\n",
    "_ = m.fit(Xn)\n",
    "\n",
    "Xr = m.transform(X)\n",
    "X1 = Xr[:,[0]]\n",
    "m1 = LogisticRegression(max_iter = 140).fit(X1,y)\n",
    "cross_val_score(m1, X1, y, cv=10).mean()"
   ]
  },
  {
   "cell_type": "markdown",
   "id": "13555097-a261-4f83-8f30-644adee290c8",
   "metadata": {},
   "source": [
    "The best value I get is 91.4%"
   ]
  },
  {
   "cell_type": "code",
   "execution_count": null,
   "id": "8a00e8e1-b77c-44ed-86ff-2392c439d7b8",
   "metadata": {},
   "outputs": [],
   "source": []
  }
 ],
 "metadata": {
  "kernelspec": {
   "display_name": "Python 3",
   "language": "python",
   "name": "python3"
  },
  "language_info": {
   "codemirror_mode": {
    "name": "ipython",
    "version": 3
   },
   "file_extension": ".py",
   "mimetype": "text/x-python",
   "name": "python",
   "nbconvert_exporter": "python",
   "pygments_lexer": "ipython3",
   "version": "3.8.8"
  }
 },
 "nbformat": 4,
 "nbformat_minor": 5
}
