{
 "cells": [
  {
   "cell_type": "code",
   "execution_count": 192,
   "id": "e49e8717-39aa-43b9-82a0-9a16d51b8895",
   "metadata": {},
   "outputs": [],
   "source": [
    "import pandas as pd\n",
    "import numpy as np\n",
    "import matplotlib.pyplot as plt\n",
    "from sklearn.model_selection import cross_val_score\n",
    "from sklearn.linear_model import LogisticRegression"
   ]
  },
  {
   "cell_type": "markdown",
   "id": "72b1cef5-1118-4706-9985-8ddc8ae39d3e",
   "metadata": {},
   "source": [
    "### 1.1"
   ]
  },
  {
   "cell_type": "code",
   "execution_count": 130,
   "id": "c14e7d97-3f7a-43a2-a3b4-d4c2bf22e0d5",
   "metadata": {},
   "outputs": [
    {
     "data": {
      "text/html": [
       "<div>\n",
       "<style scoped>\n",
       "    .dataframe tbody tr th:only-of-type {\n",
       "        vertical-align: middle;\n",
       "    }\n",
       "\n",
       "    .dataframe tbody tr th {\n",
       "        vertical-align: top;\n",
       "    }\n",
       "\n",
       "    .dataframe thead th {\n",
       "        text-align: right;\n",
       "    }\n",
       "</style>\n",
       "<table border=\"1\" class=\"dataframe\">\n",
       "  <thead>\n",
       "    <tr style=\"text-align: right;\">\n",
       "      <th></th>\n",
       "      <th>id</th>\n",
       "      <th>diagnosis</th>\n",
       "      <th>radius.mean</th>\n",
       "      <th>texture.mean</th>\n",
       "      <th>perimeter.mean</th>\n",
       "      <th>area.mean</th>\n",
       "      <th>smoothness.mean</th>\n",
       "      <th>compactness.mean</th>\n",
       "      <th>concavity.mean</th>\n",
       "      <th>concpoints.mean</th>\n",
       "      <th>...</th>\n",
       "      <th>radius.worst</th>\n",
       "      <th>texture.worst</th>\n",
       "      <th>perimeter.worst</th>\n",
       "      <th>area.worst</th>\n",
       "      <th>smoothness.worst</th>\n",
       "      <th>compactness.worst</th>\n",
       "      <th>concavity.worst</th>\n",
       "      <th>concpoints.worst</th>\n",
       "      <th>symmetry.worst</th>\n",
       "      <th>fracdim.worst</th>\n",
       "    </tr>\n",
       "  </thead>\n",
       "  <tbody>\n",
       "    <tr>\n",
       "      <th>0</th>\n",
       "      <td>842302</td>\n",
       "      <td>M</td>\n",
       "      <td>17.99</td>\n",
       "      <td>10.38</td>\n",
       "      <td>122.80</td>\n",
       "      <td>1001.0</td>\n",
       "      <td>0.11840</td>\n",
       "      <td>0.27760</td>\n",
       "      <td>0.3001</td>\n",
       "      <td>0.14710</td>\n",
       "      <td>...</td>\n",
       "      <td>25.38</td>\n",
       "      <td>17.33</td>\n",
       "      <td>184.60</td>\n",
       "      <td>2019.0</td>\n",
       "      <td>0.1622</td>\n",
       "      <td>0.6656</td>\n",
       "      <td>0.7119</td>\n",
       "      <td>0.2654</td>\n",
       "      <td>0.4601</td>\n",
       "      <td>0.11890</td>\n",
       "    </tr>\n",
       "    <tr>\n",
       "      <th>1</th>\n",
       "      <td>842517</td>\n",
       "      <td>M</td>\n",
       "      <td>20.57</td>\n",
       "      <td>17.77</td>\n",
       "      <td>132.90</td>\n",
       "      <td>1326.0</td>\n",
       "      <td>0.08474</td>\n",
       "      <td>0.07864</td>\n",
       "      <td>0.0869</td>\n",
       "      <td>0.07017</td>\n",
       "      <td>...</td>\n",
       "      <td>24.99</td>\n",
       "      <td>23.41</td>\n",
       "      <td>158.80</td>\n",
       "      <td>1956.0</td>\n",
       "      <td>0.1238</td>\n",
       "      <td>0.1866</td>\n",
       "      <td>0.2416</td>\n",
       "      <td>0.1860</td>\n",
       "      <td>0.2750</td>\n",
       "      <td>0.08902</td>\n",
       "    </tr>\n",
       "    <tr>\n",
       "      <th>2</th>\n",
       "      <td>84300903</td>\n",
       "      <td>M</td>\n",
       "      <td>19.69</td>\n",
       "      <td>21.25</td>\n",
       "      <td>130.00</td>\n",
       "      <td>1203.0</td>\n",
       "      <td>0.10960</td>\n",
       "      <td>0.15990</td>\n",
       "      <td>0.1974</td>\n",
       "      <td>0.12790</td>\n",
       "      <td>...</td>\n",
       "      <td>23.57</td>\n",
       "      <td>25.53</td>\n",
       "      <td>152.50</td>\n",
       "      <td>1709.0</td>\n",
       "      <td>0.1444</td>\n",
       "      <td>0.4245</td>\n",
       "      <td>0.4504</td>\n",
       "      <td>0.2430</td>\n",
       "      <td>0.3613</td>\n",
       "      <td>0.08758</td>\n",
       "    </tr>\n",
       "    <tr>\n",
       "      <th>3</th>\n",
       "      <td>84348301</td>\n",
       "      <td>M</td>\n",
       "      <td>11.42</td>\n",
       "      <td>20.38</td>\n",
       "      <td>77.58</td>\n",
       "      <td>386.1</td>\n",
       "      <td>0.14250</td>\n",
       "      <td>0.28390</td>\n",
       "      <td>0.2414</td>\n",
       "      <td>0.10520</td>\n",
       "      <td>...</td>\n",
       "      <td>14.91</td>\n",
       "      <td>26.50</td>\n",
       "      <td>98.87</td>\n",
       "      <td>567.7</td>\n",
       "      <td>0.2098</td>\n",
       "      <td>0.8663</td>\n",
       "      <td>0.6869</td>\n",
       "      <td>0.2575</td>\n",
       "      <td>0.6638</td>\n",
       "      <td>0.17300</td>\n",
       "    </tr>\n",
       "    <tr>\n",
       "      <th>4</th>\n",
       "      <td>84358402</td>\n",
       "      <td>M</td>\n",
       "      <td>20.29</td>\n",
       "      <td>14.34</td>\n",
       "      <td>135.10</td>\n",
       "      <td>1297.0</td>\n",
       "      <td>0.10030</td>\n",
       "      <td>0.13280</td>\n",
       "      <td>0.1980</td>\n",
       "      <td>0.10430</td>\n",
       "      <td>...</td>\n",
       "      <td>22.54</td>\n",
       "      <td>16.67</td>\n",
       "      <td>152.20</td>\n",
       "      <td>1575.0</td>\n",
       "      <td>0.1374</td>\n",
       "      <td>0.2050</td>\n",
       "      <td>0.4000</td>\n",
       "      <td>0.1625</td>\n",
       "      <td>0.2364</td>\n",
       "      <td>0.07678</td>\n",
       "    </tr>\n",
       "  </tbody>\n",
       "</table>\n",
       "<p>5 rows × 32 columns</p>\n",
       "</div>"
      ],
      "text/plain": [
       "         id diagnosis  radius.mean  texture.mean  perimeter.mean  area.mean  \\\n",
       "0    842302         M        17.99         10.38          122.80     1001.0   \n",
       "1    842517         M        20.57         17.77          132.90     1326.0   \n",
       "2  84300903         M        19.69         21.25          130.00     1203.0   \n",
       "3  84348301         M        11.42         20.38           77.58      386.1   \n",
       "4  84358402         M        20.29         14.34          135.10     1297.0   \n",
       "\n",
       "   smoothness.mean  compactness.mean  concavity.mean  concpoints.mean  ...  \\\n",
       "0          0.11840           0.27760          0.3001          0.14710  ...   \n",
       "1          0.08474           0.07864          0.0869          0.07017  ...   \n",
       "2          0.10960           0.15990          0.1974          0.12790  ...   \n",
       "3          0.14250           0.28390          0.2414          0.10520  ...   \n",
       "4          0.10030           0.13280          0.1980          0.10430  ...   \n",
       "\n",
       "   radius.worst  texture.worst  perimeter.worst  area.worst  smoothness.worst  \\\n",
       "0         25.38          17.33           184.60      2019.0            0.1622   \n",
       "1         24.99          23.41           158.80      1956.0            0.1238   \n",
       "2         23.57          25.53           152.50      1709.0            0.1444   \n",
       "3         14.91          26.50            98.87       567.7            0.2098   \n",
       "4         22.54          16.67           152.20      1575.0            0.1374   \n",
       "\n",
       "   compactness.worst  concavity.worst  concpoints.worst  symmetry.worst  \\\n",
       "0             0.6656           0.7119            0.2654          0.4601   \n",
       "1             0.1866           0.2416            0.1860          0.2750   \n",
       "2             0.4245           0.4504            0.2430          0.3613   \n",
       "3             0.8663           0.6869            0.2575          0.6638   \n",
       "4             0.2050           0.4000            0.1625          0.2364   \n",
       "\n",
       "   fracdim.worst  \n",
       "0        0.11890  \n",
       "1        0.08902  \n",
       "2        0.08758  \n",
       "3        0.17300  \n",
       "4        0.07678  \n",
       "\n",
       "[5 rows x 32 columns]"
      ]
     },
     "execution_count": 130,
     "metadata": {},
     "output_type": "execute_result"
    }
   ],
   "source": [
    "df = pd.read_csv(\"../Data/all-data/wdbc.csv.bz2\")\n",
    "df.head()"
   ]
  },
  {
   "cell_type": "markdown",
   "id": "bb3acff5-4bce-487e-a55b-55e90ef116df",
   "metadata": {},
   "source": [
    "### 1.2"
   ]
  },
  {
   "cell_type": "code",
   "execution_count": 131,
   "id": "0de1f40d-0931-41c3-a6b9-6f4ad1891dab",
   "metadata": {},
   "outputs": [
    {
     "data": {
      "text/plain": [
       "569"
      ]
     },
     "execution_count": 131,
     "metadata": {},
     "output_type": "execute_result"
    }
   ],
   "source": [
    "df.drop(\"id\",axis=1)\n",
    "X = df.loc[:, df.columns != \"diagnosis\"].values\n",
    "y = df.diagnosis.values\n",
    "y = 0*(y == \"M\") + 1*(y == \"B\")\n",
    "#res = [ele == \"M\" for ele in y]"
   ]
  },
  {
   "cell_type": "markdown",
   "id": "87c589b2-df25-4867-a2b6-7d70b38d1028",
   "metadata": {},
   "source": [
    "### 1.3"
   ]
  },
  {
   "cell_type": "code",
   "execution_count": 133,
   "id": "838c2fc4-8cfd-40e9-aeb0-fa0840655dbd",
   "metadata": {},
   "outputs": [],
   "source": [
    "from sklearn.model_selection import train_test_split\n",
    "Xt, Xv, yt, yv = train_test_split(X, y, test_size=0.2)"
   ]
  },
  {
   "cell_type": "markdown",
   "id": "850ba127-1964-4bfd-8042-7b5b823b6f70",
   "metadata": {},
   "source": [
    "### 1.4\n",
    "Hyperparameters are parameters whose values control the learning process and determine the values of model parameters that a learning algorithm ends up learning.\n",
    "`max_depth` \n",
    "`min_samples_split`\n",
    "`min_samples_leaf`"
   ]
  },
  {
   "cell_type": "markdown",
   "id": "c4fd9c26-c016-42e4-b6ab-22b08be5b839",
   "metadata": {},
   "source": [
    "### 1.5"
   ]
  },
  {
   "cell_type": "code",
   "execution_count": 134,
   "id": "83dc56c4-074c-4a19-9579-98c73749cd3e",
   "metadata": {},
   "outputs": [
    {
     "data": {
      "text/plain": [
       "DecisionTreeClassifier(max_depth=7, min_samples_leaf=100, min_samples_split=50)"
      ]
     },
     "execution_count": 134,
     "metadata": {},
     "output_type": "execute_result"
    }
   ],
   "source": [
    "from sklearn.tree import DecisionTreeClassifier\n",
    "#X_valid = X_valid.reshape(-1, 1)\n",
    "#y_valid = y_valid.reshape(-1, 1)\n",
    "m = DecisionTreeClassifier(max_depth=7, min_samples_split=50, min_samples_leaf=100)\n",
    "_ = m.fit(Xv, yv)\n",
    "m"
   ]
  },
  {
   "cell_type": "code",
   "execution_count": 135,
   "id": "b218b4e6-9e24-4894-aeda-45530c1514b5",
   "metadata": {},
   "outputs": [
    {
     "data": {
      "text/plain": [
       "0.6403508771929824"
      ]
     },
     "execution_count": 135,
     "metadata": {},
     "output_type": "execute_result"
    }
   ],
   "source": [
    "#m.fit(X_valid, y_valid)\n",
    "m.score(Xv, yv)"
   ]
  },
  {
   "cell_type": "markdown",
   "id": "2dac0dda-c044-4d3e-9f34-061482e06ee8",
   "metadata": {},
   "source": [
    "### 1.6"
   ]
  },
  {
   "cell_type": "code",
   "execution_count": 136,
   "id": "fd097d3c-06a1-49b9-9918-c16b110de1f5",
   "metadata": {},
   "outputs": [],
   "source": [
    "depths = range(1,6)\n",
    "splits = [2,5,10,20,50,100]\n",
    "leafs = [1,2,5,10,20,50,100]"
   ]
  },
  {
   "cell_type": "code",
   "execution_count": 137,
   "id": "4528348f-6a33-4408-8d7d-b38c4cd13926",
   "metadata": {},
   "outputs": [],
   "source": [
    "maxi = 0\n",
    "\n",
    "for i in depths:\n",
    "    for j in splits:\n",
    "        for k in leafs:\n",
    "            m = DecisionTreeClassifier(max_depth = i, min_samples_split= j, min_samples_leaf= k)\n",
    "            _ = m.fit(Xv, yv)\n",
    "            result = m.score(Xv, yv)\n",
    "            #print(m, \" : \",result)\n",
    "            if result > maxi:\n",
    "                maxi = result\n",
    "                combination = m"
   ]
  },
  {
   "cell_type": "markdown",
   "id": "31b60b69-a5c4-49d7-8822-7f9b5b3d4167",
   "metadata": {},
   "source": [
    "### 1.7"
   ]
  },
  {
   "cell_type": "code",
   "execution_count": 138,
   "id": "9d361691-7b58-4878-8a44-14a64b4a1d81",
   "metadata": {},
   "outputs": [
    {
     "name": "stdout",
     "output_type": "stream",
     "text": [
      "DecisionTreeClassifier(max_depth=5, min_samples_leaf=100, min_samples_split=100) 1.0\n"
     ]
    }
   ],
   "source": [
    "print(m, maxi)"
   ]
  },
  {
   "cell_type": "markdown",
   "id": "b2b68745-6746-4997-acaa-e6b5a68b1f7c",
   "metadata": {},
   "source": [
    "### 1.8"
   ]
  },
  {
   "cell_type": "code",
   "execution_count": 139,
   "id": "0961c5ae-f137-4235-b106-4344b76a23b1",
   "metadata": {},
   "outputs": [
    {
     "data": {
      "text/plain": [
       "0.5734848484848485"
      ]
     },
     "execution_count": 139,
     "metadata": {},
     "output_type": "execute_result"
    }
   ],
   "source": [
    "from sklearn.model_selection import cross_val_score\n",
    "from sklearn.linear_model import LogisticRegression\n",
    "m = LogisticRegression(max_iter = 1000).fit(Xv,yv)\n",
    "cv = cross_val_score(m, Xv, yv, cv=10)\n",
    "cv.mean()"
   ]
  },
  {
   "cell_type": "markdown",
   "id": "d9188d06-fe14-4f72-9b1c-137c95c15964",
   "metadata": {},
   "source": [
    "The model with DecisionTreeClassifier gives me the best accuracy."
   ]
  },
  {
   "cell_type": "markdown",
   "id": "a8391228-d28b-45b8-9eec-409773d9a2d1",
   "metadata": {},
   "source": [
    "## 2 Boston housing: regression tree"
   ]
  },
  {
   "cell_type": "markdown",
   "id": "f63bf8ce-e56f-4ac9-b5c7-4a627a7a0ee4",
   "metadata": {},
   "source": [
    "### 2.1"
   ]
  },
  {
   "cell_type": "code",
   "execution_count": 193,
   "id": "d679d5f6-e6c6-4c7b-b704-37c352241a82",
   "metadata": {},
   "outputs": [
    {
     "data": {
      "text/html": [
       "<div>\n",
       "<style scoped>\n",
       "    .dataframe tbody tr th:only-of-type {\n",
       "        vertical-align: middle;\n",
       "    }\n",
       "\n",
       "    .dataframe tbody tr th {\n",
       "        vertical-align: top;\n",
       "    }\n",
       "\n",
       "    .dataframe thead th {\n",
       "        text-align: right;\n",
       "    }\n",
       "</style>\n",
       "<table border=\"1\" class=\"dataframe\">\n",
       "  <thead>\n",
       "    <tr style=\"text-align: right;\">\n",
       "      <th></th>\n",
       "      <th>crim</th>\n",
       "      <th>zn</th>\n",
       "      <th>indus</th>\n",
       "      <th>chas</th>\n",
       "      <th>nox</th>\n",
       "      <th>rm</th>\n",
       "      <th>age</th>\n",
       "      <th>dis</th>\n",
       "      <th>rad</th>\n",
       "      <th>tax</th>\n",
       "      <th>ptratio</th>\n",
       "      <th>black</th>\n",
       "      <th>lstat</th>\n",
       "      <th>medv</th>\n",
       "    </tr>\n",
       "  </thead>\n",
       "  <tbody>\n",
       "    <tr>\n",
       "      <th>0</th>\n",
       "      <td>0.00632</td>\n",
       "      <td>18.0</td>\n",
       "      <td>2.31</td>\n",
       "      <td>0</td>\n",
       "      <td>0.538</td>\n",
       "      <td>6.575</td>\n",
       "      <td>65.2</td>\n",
       "      <td>4.0900</td>\n",
       "      <td>1</td>\n",
       "      <td>296</td>\n",
       "      <td>15.3</td>\n",
       "      <td>396.90</td>\n",
       "      <td>4.98</td>\n",
       "      <td>24.0</td>\n",
       "    </tr>\n",
       "    <tr>\n",
       "      <th>1</th>\n",
       "      <td>0.02731</td>\n",
       "      <td>0.0</td>\n",
       "      <td>7.07</td>\n",
       "      <td>0</td>\n",
       "      <td>0.469</td>\n",
       "      <td>6.421</td>\n",
       "      <td>78.9</td>\n",
       "      <td>4.9671</td>\n",
       "      <td>2</td>\n",
       "      <td>242</td>\n",
       "      <td>17.8</td>\n",
       "      <td>396.90</td>\n",
       "      <td>9.14</td>\n",
       "      <td>21.6</td>\n",
       "    </tr>\n",
       "    <tr>\n",
       "      <th>2</th>\n",
       "      <td>0.02729</td>\n",
       "      <td>0.0</td>\n",
       "      <td>7.07</td>\n",
       "      <td>0</td>\n",
       "      <td>0.469</td>\n",
       "      <td>7.185</td>\n",
       "      <td>61.1</td>\n",
       "      <td>4.9671</td>\n",
       "      <td>2</td>\n",
       "      <td>242</td>\n",
       "      <td>17.8</td>\n",
       "      <td>392.83</td>\n",
       "      <td>4.03</td>\n",
       "      <td>34.7</td>\n",
       "    </tr>\n",
       "    <tr>\n",
       "      <th>3</th>\n",
       "      <td>0.03237</td>\n",
       "      <td>0.0</td>\n",
       "      <td>2.18</td>\n",
       "      <td>0</td>\n",
       "      <td>0.458</td>\n",
       "      <td>6.998</td>\n",
       "      <td>45.8</td>\n",
       "      <td>6.0622</td>\n",
       "      <td>3</td>\n",
       "      <td>222</td>\n",
       "      <td>18.7</td>\n",
       "      <td>394.63</td>\n",
       "      <td>2.94</td>\n",
       "      <td>33.4</td>\n",
       "    </tr>\n",
       "    <tr>\n",
       "      <th>4</th>\n",
       "      <td>0.06905</td>\n",
       "      <td>0.0</td>\n",
       "      <td>2.18</td>\n",
       "      <td>0</td>\n",
       "      <td>0.458</td>\n",
       "      <td>7.147</td>\n",
       "      <td>54.2</td>\n",
       "      <td>6.0622</td>\n",
       "      <td>3</td>\n",
       "      <td>222</td>\n",
       "      <td>18.7</td>\n",
       "      <td>396.90</td>\n",
       "      <td>5.33</td>\n",
       "      <td>36.2</td>\n",
       "    </tr>\n",
       "  </tbody>\n",
       "</table>\n",
       "</div>"
      ],
      "text/plain": [
       "      crim    zn  indus  chas    nox     rm   age     dis  rad  tax  ptratio  \\\n",
       "0  0.00632  18.0   2.31     0  0.538  6.575  65.2  4.0900    1  296     15.3   \n",
       "1  0.02731   0.0   7.07     0  0.469  6.421  78.9  4.9671    2  242     17.8   \n",
       "2  0.02729   0.0   7.07     0  0.469  7.185  61.1  4.9671    2  242     17.8   \n",
       "3  0.03237   0.0   2.18     0  0.458  6.998  45.8  6.0622    3  222     18.7   \n",
       "4  0.06905   0.0   2.18     0  0.458  7.147  54.2  6.0622    3  222     18.7   \n",
       "\n",
       "    black  lstat  medv  \n",
       "0  396.90   4.98  24.0  \n",
       "1  396.90   9.14  21.6  \n",
       "2  392.83   4.03  34.7  \n",
       "3  394.63   2.94  33.4  \n",
       "4  396.90   5.33  36.2  "
      ]
     },
     "execution_count": 193,
     "metadata": {},
     "output_type": "execute_result"
    }
   ],
   "source": [
    "df = pd.read_csv(\"../Data/all-data/boston.csv.bz2\", sep = \"\\t\")\n",
    "df.dropna()\n",
    "df.head()"
   ]
  },
  {
   "cell_type": "markdown",
   "id": "41e42b8b-1912-4ff0-b29f-2415f0b35024",
   "metadata": {},
   "source": [
    "### 2.2"
   ]
  },
  {
   "cell_type": "code",
   "execution_count": 194,
   "id": "de087eed-e998-4619-b9b9-597f37a2a651",
   "metadata": {},
   "outputs": [],
   "source": [
    "X = df.loc[:, df.columns != \"medv\"].values\n",
    "y = df.medv.values"
   ]
  },
  {
   "cell_type": "markdown",
   "id": "526b7517-22c0-4cd0-a42d-e258ec227965",
   "metadata": {},
   "source": [
    "### 2.3"
   ]
  },
  {
   "cell_type": "code",
   "execution_count": 195,
   "id": "ae4c4956-39c6-4940-a2f1-02b444eb4c08",
   "metadata": {},
   "outputs": [],
   "source": [
    "X_train,X_test,y_train,y_test=train_test_split(X,y,test_size=0.2)"
   ]
  },
  {
   "cell_type": "markdown",
   "id": "3c220b92-ac65-47bd-9d50-97ab53b64434",
   "metadata": {},
   "source": [
    "### 2.4"
   ]
  },
  {
   "cell_type": "code",
   "execution_count": 196,
   "id": "7bdf0506-081d-47ab-9c90-32a60bc04a93",
   "metadata": {},
   "outputs": [
    {
     "data": {
      "text/plain": [
       "0.5012698967956586"
      ]
     },
     "execution_count": 196,
     "metadata": {},
     "output_type": "execute_result"
    }
   ],
   "source": [
    "from sklearn.tree import DecisionTreeRegressor\n",
    "m = DecisionTreeRegressor(max_depth=7, min_samples_split=50, min_samples_leaf=100)\n",
    "m.fit(X_train, y_train)\n",
    "m.score(X_train,y_train)\n",
    "#predictions = model.predict(X_test)"
   ]
  },
  {
   "cell_type": "code",
   "execution_count": 197,
   "id": "eadf35f3-283f-4cf0-8f6d-4a83a45c8a36",
   "metadata": {},
   "outputs": [
    {
     "data": {
      "text/plain": [
       "2.9796753760325387"
      ]
     },
     "execution_count": 197,
     "metadata": {},
     "output_type": "execute_result"
    }
   ],
   "source": [
    "predictions = model.predict(X_train)\n",
    "mse = mean_squared_error(y_train, predictions)\n",
    "rmse = np.sqrt(mse)\n",
    "rmse"
   ]
  },
  {
   "cell_type": "code",
   "execution_count": 199,
   "id": "ca3c4934-f3b2-4ab9-9110-3c4ce2dc5d3f",
   "metadata": {},
   "outputs": [],
   "source": [
    "maxi = 0\n",
    "for i in depths:\n",
    "    for j in splits:\n",
    "        for k in leafs:\n",
    "            m = DecisionTreeRegressor(max_depth = i, min_samples_split= j, min_samples_leaf= k)\n",
    "            _ = m.fit(X_train, y_train)\n",
    "            result = m.score(X_train, y_train)\n",
    "            #print(m, \" : \",result)\n",
    "            if result > maxi:\n",
    "                maxi = result\n",
    "                combination = m"
   ]
  },
  {
   "cell_type": "code",
   "execution_count": 200,
   "id": "17b36723-1c29-4f38-a51e-955855e3a44c",
   "metadata": {},
   "outputs": [
    {
     "name": "stdout",
     "output_type": "stream",
     "text": [
      "DecisionTreeRegressor(max_depth=5, min_samples_leaf=100, min_samples_split=100) 0.9178309770027525\n"
     ]
    }
   ],
   "source": [
    "print(m, maxi)"
   ]
  },
  {
   "cell_type": "markdown",
   "id": "ab8decf6-32e8-4cbb-8384-4033e6f6ed75",
   "metadata": {},
   "source": [
    "The best result I get is the RMSE of linear regression."
   ]
  }
 ],
 "metadata": {
  "kernelspec": {
   "display_name": "Python 3",
   "language": "python",
   "name": "python3"
  },
  "language_info": {
   "codemirror_mode": {
    "name": "ipython",
    "version": 3
   },
   "file_extension": ".py",
   "mimetype": "text/x-python",
   "name": "python",
   "nbconvert_exporter": "python",
   "pygments_lexer": "ipython3",
   "version": "3.8.8"
  }
 },
 "nbformat": 4,
 "nbformat_minor": 5
}
