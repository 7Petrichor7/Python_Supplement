{
 "cells": [
  {
   "cell_type": "code",
   "execution_count": 2,
   "id": "1d5cd2bf-f9b2-429b-9596-4d43209c8ec2",
   "metadata": {},
   "outputs": [],
   "source": [
    "import pandas as pd\n",
    "import numpy as np\n",
    "import matplotlib.pyplot as plt\n",
    "from sklearn.model_selection import cross_val_score\n",
    "from sklearn.linear_model import LogisticRegression"
   ]
  },
  {
   "cell_type": "code",
   "execution_count": 3,
   "id": "603ddc27-3da4-400c-ba9b-d03839f1049f",
   "metadata": {},
   "outputs": [
    {
     "data": {
      "text/html": [
       "<div>\n",
       "<style scoped>\n",
       "    .dataframe tbody tr th:only-of-type {\n",
       "        vertical-align: middle;\n",
       "    }\n",
       "\n",
       "    .dataframe tbody tr th {\n",
       "        vertical-align: top;\n",
       "    }\n",
       "\n",
       "    .dataframe thead th {\n",
       "        text-align: right;\n",
       "    }\n",
       "</style>\n",
       "<table border=\"1\" class=\"dataframe\">\n",
       "  <thead>\n",
       "    <tr style=\"text-align: right;\">\n",
       "      <th></th>\n",
       "      <th>party</th>\n",
       "      <th>yea1</th>\n",
       "      <th>yea2</th>\n",
       "      <th>yea3</th>\n",
       "      <th>yea4</th>\n",
       "      <th>yea5</th>\n",
       "      <th>yea6</th>\n",
       "      <th>yea7</th>\n",
       "      <th>yea8</th>\n",
       "      <th>yea9</th>\n",
       "      <th>yea10</th>\n",
       "      <th>yea11</th>\n",
       "      <th>yea12</th>\n",
       "      <th>yea13</th>\n",
       "      <th>yea14</th>\n",
       "      <th>yea15</th>\n",
       "      <th>yea16</th>\n",
       "    </tr>\n",
       "  </thead>\n",
       "  <tbody>\n",
       "    <tr>\n",
       "      <th>0</th>\n",
       "      <td>republican</td>\n",
       "      <td>0</td>\n",
       "      <td>1</td>\n",
       "      <td>0</td>\n",
       "      <td>1</td>\n",
       "      <td>1</td>\n",
       "      <td>1</td>\n",
       "      <td>0</td>\n",
       "      <td>0</td>\n",
       "      <td>0</td>\n",
       "      <td>1</td>\n",
       "      <td>0</td>\n",
       "      <td>1</td>\n",
       "      <td>1</td>\n",
       "      <td>1</td>\n",
       "      <td>0</td>\n",
       "      <td>1</td>\n",
       "    </tr>\n",
       "    <tr>\n",
       "      <th>1</th>\n",
       "      <td>republican</td>\n",
       "      <td>0</td>\n",
       "      <td>1</td>\n",
       "      <td>0</td>\n",
       "      <td>1</td>\n",
       "      <td>1</td>\n",
       "      <td>1</td>\n",
       "      <td>0</td>\n",
       "      <td>0</td>\n",
       "      <td>0</td>\n",
       "      <td>0</td>\n",
       "      <td>0</td>\n",
       "      <td>1</td>\n",
       "      <td>1</td>\n",
       "      <td>1</td>\n",
       "      <td>0</td>\n",
       "      <td>0</td>\n",
       "    </tr>\n",
       "    <tr>\n",
       "      <th>2</th>\n",
       "      <td>democrat</td>\n",
       "      <td>0</td>\n",
       "      <td>1</td>\n",
       "      <td>1</td>\n",
       "      <td>0</td>\n",
       "      <td>1</td>\n",
       "      <td>1</td>\n",
       "      <td>0</td>\n",
       "      <td>0</td>\n",
       "      <td>0</td>\n",
       "      <td>0</td>\n",
       "      <td>1</td>\n",
       "      <td>0</td>\n",
       "      <td>1</td>\n",
       "      <td>1</td>\n",
       "      <td>0</td>\n",
       "      <td>0</td>\n",
       "    </tr>\n",
       "    <tr>\n",
       "      <th>3</th>\n",
       "      <td>democrat</td>\n",
       "      <td>0</td>\n",
       "      <td>1</td>\n",
       "      <td>1</td>\n",
       "      <td>0</td>\n",
       "      <td>0</td>\n",
       "      <td>1</td>\n",
       "      <td>0</td>\n",
       "      <td>0</td>\n",
       "      <td>0</td>\n",
       "      <td>0</td>\n",
       "      <td>1</td>\n",
       "      <td>0</td>\n",
       "      <td>1</td>\n",
       "      <td>0</td>\n",
       "      <td>0</td>\n",
       "      <td>1</td>\n",
       "    </tr>\n",
       "    <tr>\n",
       "      <th>4</th>\n",
       "      <td>democrat</td>\n",
       "      <td>1</td>\n",
       "      <td>1</td>\n",
       "      <td>1</td>\n",
       "      <td>0</td>\n",
       "      <td>1</td>\n",
       "      <td>1</td>\n",
       "      <td>0</td>\n",
       "      <td>0</td>\n",
       "      <td>0</td>\n",
       "      <td>0</td>\n",
       "      <td>1</td>\n",
       "      <td>0</td>\n",
       "      <td>1</td>\n",
       "      <td>1</td>\n",
       "      <td>1</td>\n",
       "      <td>1</td>\n",
       "    </tr>\n",
       "  </tbody>\n",
       "</table>\n",
       "</div>"
      ],
      "text/plain": [
       "        party  yea1  yea2  yea3  yea4  yea5  yea6  yea7  yea8  yea9  yea10  \\\n",
       "0  republican     0     1     0     1     1     1     0     0     0      1   \n",
       "1  republican     0     1     0     1     1     1     0     0     0      0   \n",
       "2    democrat     0     1     1     0     1     1     0     0     0      0   \n",
       "3    democrat     0     1     1     0     0     1     0     0     0      0   \n",
       "4    democrat     1     1     1     0     1     1     0     0     0      0   \n",
       "\n",
       "   yea11  yea12  yea13  yea14  yea15  yea16  \n",
       "0      0      1      1      1      0      1  \n",
       "1      0      1      1      1      0      0  \n",
       "2      1      0      1      1      0      0  \n",
       "3      1      0      1      0      0      1  \n",
       "4      1      0      1      1      1      1  "
      ]
     },
     "execution_count": 3,
     "metadata": {},
     "output_type": "execute_result"
    }
   ],
   "source": [
    "df = pd.read_csv(\"../Data/all-data/house-votes-84-yeas.csv.bz2\",sep=\"\\t\")\n",
    "df.head()"
   ]
  },
  {
   "cell_type": "markdown",
   "id": "ae76cca5-e59c-4067-9077-2117e29fcc8f",
   "metadata": {},
   "source": [
    "### 1.1 Compute Priors"
   ]
  },
  {
   "cell_type": "code",
   "execution_count": 14,
   "id": "548f1857-80f1-4c18-b6c7-486d438acde3",
   "metadata": {},
   "outputs": [
    {
     "name": "stdout",
     "output_type": "stream",
     "text": [
      "Pr(party = D) =  0.6137931034482759\n",
      "Pr(party = R) =  0.38620689655172413\n"
     ]
    }
   ],
   "source": [
    "#1.1.1 Pr(party = D) Pr(party = R)\n",
    "\n",
    "PD = sum(df.party == \"democrat\")/len(df.party)\n",
    "PR = sum(df.party == \"republican\")/len(df.party)\n",
    "print(\"Pr(party = D) = \",PD)\n",
    "print(\"Pr(party = R) = \",PR)"
   ]
  },
  {
   "cell_type": "code",
   "execution_count": 15,
   "id": "703260b4-7109-45cf-ab85-51779f91bc5c",
   "metadata": {},
   "outputs": [
    {
     "data": {
      "text/plain": [
       "0      0\n",
       "1      0\n",
       "2      0\n",
       "3      0\n",
       "4      0\n",
       "      ..\n",
       "430    0\n",
       "431    1\n",
       "432    0\n",
       "433    0\n",
       "434    0\n",
       "Name: yea8, Length: 435, dtype: int64"
      ]
     },
     "execution_count": 15,
     "metadata": {},
     "output_type": "execute_result"
    }
   ],
   "source": [
    "#1.1.2\n",
    "x8 = df[\"yea8\"]\n",
    "x8"
   ]
  },
  {
   "cell_type": "code",
   "execution_count": 16,
   "id": "e13a8dad-523c-42a6-a29b-b59715ba4f51",
   "metadata": {},
   "outputs": [
    {
     "data": {
      "text/plain": [
       "0.5563218390804597"
      ]
     },
     "execution_count": 16,
     "metadata": {},
     "output_type": "execute_result"
    }
   ],
   "source": [
    "#1.1.3 Pr(vote = 1)\n",
    "PY = sum(x8 == 1)/len(x8)\n",
    "PY"
   ]
  },
  {
   "cell_type": "code",
   "execution_count": 17,
   "id": "69beefe5-1b16-472e-8acc-03b7db059113",
   "metadata": {},
   "outputs": [
    {
     "data": {
      "text/plain": [
       "0.4436781609195402"
      ]
     },
     "execution_count": 17,
     "metadata": {},
     "output_type": "execute_result"
    }
   ],
   "source": [
    "#1.1.3 Pr(vote = 0)\n",
    "PN = sum(x8 == 0)/len(x8)\n",
    "PN"
   ]
  },
  {
   "cell_type": "code",
   "execution_count": 18,
   "id": "1646aa50-8ea3-43f8-b24d-fad96d9e991c",
   "metadata": {},
   "outputs": [
    {
     "data": {
      "text/html": [
       "<div>\n",
       "<style scoped>\n",
       "    .dataframe tbody tr th:only-of-type {\n",
       "        vertical-align: middle;\n",
       "    }\n",
       "\n",
       "    .dataframe tbody tr th {\n",
       "        vertical-align: top;\n",
       "    }\n",
       "\n",
       "    .dataframe thead th {\n",
       "        text-align: right;\n",
       "    }\n",
       "</style>\n",
       "<table border=\"1\" class=\"dataframe\">\n",
       "  <thead>\n",
       "    <tr style=\"text-align: right;\">\n",
       "      <th></th>\n",
       "      <th>yea1</th>\n",
       "      <th>yea2</th>\n",
       "      <th>yea3</th>\n",
       "      <th>yea4</th>\n",
       "      <th>yea5</th>\n",
       "      <th>yea6</th>\n",
       "      <th>yea7</th>\n",
       "      <th>yea8</th>\n",
       "      <th>yea9</th>\n",
       "      <th>yea10</th>\n",
       "      <th>yea11</th>\n",
       "      <th>yea12</th>\n",
       "      <th>yea13</th>\n",
       "      <th>yea14</th>\n",
       "      <th>yea15</th>\n",
       "      <th>yea16</th>\n",
       "    </tr>\n",
       "    <tr>\n",
       "      <th>party</th>\n",
       "      <th></th>\n",
       "      <th></th>\n",
       "      <th></th>\n",
       "      <th></th>\n",
       "      <th></th>\n",
       "      <th></th>\n",
       "      <th></th>\n",
       "      <th></th>\n",
       "      <th></th>\n",
       "      <th></th>\n",
       "      <th></th>\n",
       "      <th></th>\n",
       "      <th></th>\n",
       "      <th></th>\n",
       "      <th></th>\n",
       "      <th></th>\n",
       "    </tr>\n",
       "  </thead>\n",
       "  <tbody>\n",
       "    <tr>\n",
       "      <th>democrat</th>\n",
       "      <td>0.584270</td>\n",
       "      <td>0.449438</td>\n",
       "      <td>0.865169</td>\n",
       "      <td>0.052434</td>\n",
       "      <td>0.205993</td>\n",
       "      <td>0.460674</td>\n",
       "      <td>0.749064</td>\n",
       "      <td>0.816479</td>\n",
       "      <td>0.704120</td>\n",
       "      <td>0.464419</td>\n",
       "      <td>0.483146</td>\n",
       "      <td>0.134831</td>\n",
       "      <td>0.273408</td>\n",
       "      <td>0.337079</td>\n",
       "      <td>0.599251</td>\n",
       "      <td>0.647940</td>\n",
       "    </tr>\n",
       "    <tr>\n",
       "      <th>republican</th>\n",
       "      <td>0.184524</td>\n",
       "      <td>0.446429</td>\n",
       "      <td>0.130952</td>\n",
       "      <td>0.970238</td>\n",
       "      <td>0.934524</td>\n",
       "      <td>0.886905</td>\n",
       "      <td>0.232143</td>\n",
       "      <td>0.142857</td>\n",
       "      <td>0.113095</td>\n",
       "      <td>0.547619</td>\n",
       "      <td>0.125000</td>\n",
       "      <td>0.803571</td>\n",
       "      <td>0.809524</td>\n",
       "      <td>0.940476</td>\n",
       "      <td>0.083333</td>\n",
       "      <td>0.571429</td>\n",
       "    </tr>\n",
       "  </tbody>\n",
       "</table>\n",
       "</div>"
      ],
      "text/plain": [
       "                yea1      yea2      yea3      yea4      yea5      yea6  \\\n",
       "party                                                                    \n",
       "democrat    0.584270  0.449438  0.865169  0.052434  0.205993  0.460674   \n",
       "republican  0.184524  0.446429  0.130952  0.970238  0.934524  0.886905   \n",
       "\n",
       "                yea7      yea8      yea9     yea10     yea11     yea12  \\\n",
       "party                                                                    \n",
       "democrat    0.749064  0.816479  0.704120  0.464419  0.483146  0.134831   \n",
       "republican  0.232143  0.142857  0.113095  0.547619  0.125000  0.803571   \n",
       "\n",
       "               yea13     yea14     yea15     yea16  \n",
       "party                                               \n",
       "democrat    0.273408  0.337079  0.599251  0.647940  \n",
       "republican  0.809524  0.940476  0.083333  0.571429  "
      ]
     },
     "execution_count": 18,
     "metadata": {},
     "output_type": "execute_result"
    }
   ],
   "source": [
    "#1.1.4 Pr(vote = Y|party = D)\n",
    "df1 = df.groupby(['party']).mean()\n",
    "df1"
   ]
  },
  {
   "cell_type": "code",
   "execution_count": 19,
   "id": "76ef5d68-5da6-4609-a6ca-445c9da7e24d",
   "metadata": {},
   "outputs": [
    {
     "name": "stdout",
     "output_type": "stream",
     "text": [
      "Pr(vote = Y|party = D) 0.8164794007490637\n",
      "Pr(vote = N|party = D) 0.18352059925093633\n",
      "Pr(vote = Y|party = R) 0.14285714285714285\n",
      "Pr(vote = N|party = R) 0.8571428571428572\n"
     ]
    }
   ],
   "source": [
    "P_8Y_D = np.mean(df.yea8[df.party == 'democrat'])\n",
    "P_8N_D = 1 - P_8Y_D\n",
    "P_8Y_R = np.mean(df.yea8[df.party == 'republican'])\n",
    "P_8N_R = 1 - P_8Y_R\n",
    "print(\"Pr(vote = Y|party = D)\", P_8Y_D)\n",
    "print(\"Pr(vote = N|party = D)\", P_8N_D)\n",
    "print(\"Pr(vote = Y|party = R)\", P_8Y_R)\n",
    "print(\"Pr(vote = N|party = R)\", P_8N_R)"
   ]
  },
  {
   "cell_type": "markdown",
   "id": "18d74b13-c4f4-4aec-87da-70bc5dcb0c7c",
   "metadata": {},
   "source": [
    "### 1.2 Predict using Bayes theorem"
   ]
  },
  {
   "cell_type": "code",
   "execution_count": 23,
   "id": "8b3ea2b1-80d9-45ab-aa61-e672fa5c62e0",
   "metadata": {},
   "outputs": [],
   "source": [
    "# if yes, P_D_8Y = P_8Y_D * PD / P8Y\n",
    "# if no, P_D_8N = P_8N_D * PD / P8N\n",
    "P_D_8 = np.where(df.yea8, P_8Y_D * PD / PY, P_8N_D * PD / PN)"
   ]
  },
  {
   "cell_type": "code",
   "execution_count": 26,
   "id": "b41fd5d2-6666-40b7-929f-1a17f72a637b",
   "metadata": {},
   "outputs": [],
   "source": [
    "democrat = P_D_8 > 0.5"
   ]
  },
  {
   "cell_type": "code",
   "execution_count": 28,
   "id": "d33e8e49-2812-4466-a1ad-16187dbfc7fa",
   "metadata": {},
   "outputs": [
    {
     "data": {
      "text/plain": [
       "0.832183908045977"
      ]
     },
     "execution_count": 28,
     "metadata": {},
     "output_type": "execute_result"
    }
   ],
   "source": [
    "#1.2.3\n",
    "np.mean(democrat == (df.party == \"democrat\"))"
   ]
  },
  {
   "cell_type": "code",
   "execution_count": 32,
   "id": "4a661c31-fc62-4a83-b48c-4f32f8d915db",
   "metadata": {},
   "outputs": [
    {
     "name": "stdout",
     "output_type": "stream",
     "text": [
      "Confusion Matrix:\n",
      " [[144  24]\n",
      " [ 49 218]]\n"
     ]
    }
   ],
   "source": [
    "#1.2.3\n",
    "from sklearn.metrics import confusion_matrix\n",
    "print(\"Confusion Matrix:\\n\", confusion_matrix(df.party == 'democrat', democrat))"
   ]
  },
  {
   "cell_type": "code",
   "execution_count": null,
   "id": "8c72ec3d-a295-4eac-8ea8-2c5f304186c5",
   "metadata": {},
   "outputs": [],
   "source": []
  }
 ],
 "metadata": {
  "kernelspec": {
   "display_name": "Python 3",
   "language": "python",
   "name": "python3"
  },
  "language_info": {
   "codemirror_mode": {
    "name": "ipython",
    "version": 3
   },
   "file_extension": ".py",
   "mimetype": "text/x-python",
   "name": "python",
   "nbconvert_exporter": "python",
   "pygments_lexer": "ipython3",
   "version": "3.8.8"
  }
 },
 "nbformat": 4,
 "nbformat_minor": 5
}
