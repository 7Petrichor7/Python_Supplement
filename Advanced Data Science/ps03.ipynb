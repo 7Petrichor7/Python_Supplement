{
 "cells": [
  {
   "cell_type": "markdown",
   "id": "3719fb0a-784c-47a1-8c77-31d326a8440b",
   "metadata": {},
   "source": [
    "# INFO370 Problem Set: Image rotation"
   ]
  },
  {
   "cell_type": "code",
   "execution_count": 260,
   "id": "3630e5ea-04ab-43a4-a6c6-2b524b8bc3f0",
   "metadata": {},
   "outputs": [],
   "source": [
    "import numpy as np\n",
    "import pandas as pd\n",
    "import matplotlib.pyplot as plt"
   ]
  },
  {
   "cell_type": "markdown",
   "id": "943e65d5-2aec-45d7-9ef1-b057e2a8fbed",
   "metadata": {},
   "source": [
    "### 1 Matrix multiplication"
   ]
  },
  {
   "cell_type": "markdown",
   "id": "ed0e0fd9-3147-4cb2-9fb5-1b5c722bf275",
   "metadata": {},
   "source": [
    "![matrix_multiplication](matrix_multiplication.jpg)"
   ]
  },
  {
   "cell_type": "code",
   "execution_count": 215,
   "id": "c0f74bd8-4b4b-4c2b-8f9c-5f1fec2cf3a5",
   "metadata": {},
   "outputs": [],
   "source": [
    "T = np.array([[0,7],\n",
    "              [5,3]])"
   ]
  },
  {
   "cell_type": "code",
   "execution_count": 216,
   "id": "c4b0630e-4a1f-4ea8-a782-29b704d9d441",
   "metadata": {},
   "outputs": [],
   "source": [
    "A = np.array([[1,0],\n",
    "              [0,-1]])"
   ]
  },
  {
   "cell_type": "code",
   "execution_count": 217,
   "id": "497c3cb3-209f-4027-ad3b-751ffda29968",
   "metadata": {},
   "outputs": [
    {
     "data": {
      "text/plain": [
       "array([[ 0, -7],\n",
       "       [ 5, -3]])"
      ]
     },
     "execution_count": 217,
     "metadata": {},
     "output_type": "execute_result"
    }
   ],
   "source": [
    "#a)\n",
    "\n",
    "T@A"
   ]
  },
  {
   "cell_type": "code",
   "execution_count": 218,
   "id": "5a979488-d69f-4d83-bcc4-c53fee5e351e",
   "metadata": {},
   "outputs": [
    {
     "data": {
      "text/plain": [
       "array([[ 1,  0],\n",
       "       [ 0, -1],\n",
       "       [ 0,  1]])"
      ]
     },
     "execution_count": 218,
     "metadata": {},
     "output_type": "execute_result"
    }
   ],
   "source": [
    "B = np.array([[1,0],\n",
    "              [0,-1],\n",
    "            [0,1]])\n",
    "B"
   ]
  },
  {
   "cell_type": "markdown",
   "id": "a9aec9fc-f7f4-4159-93ef-a77612918c34",
   "metadata": {},
   "source": [
    "##### b)\n",
    "T@B\n",
    "This operation is not valid, since the number of columns in the first matrix is not equal to the number of rows in the second matrix."
   ]
  },
  {
   "cell_type": "code",
   "execution_count": 219,
   "id": "b27019d8-cdd0-4d2a-95d6-3010e4156f00",
   "metadata": {},
   "outputs": [
    {
     "data": {
      "text/plain": [
       "array([[ 1,  0,  0],\n",
       "       [ 0, -1, -1]])"
      ]
     },
     "execution_count": 219,
     "metadata": {},
     "output_type": "execute_result"
    }
   ],
   "source": [
    "C = np.array([[1,0,0],\n",
    "              [0,-1,-1]])\n",
    "C"
   ]
  },
  {
   "cell_type": "code",
   "execution_count": 220,
   "id": "2f469750-4df4-4ed5-9d19-47613073a60f",
   "metadata": {},
   "outputs": [
    {
     "data": {
      "text/plain": [
       "array([[ 0, -7, -7],\n",
       "       [ 5, -3, -3]])"
      ]
     },
     "execution_count": 220,
     "metadata": {},
     "output_type": "execute_result"
    }
   ],
   "source": [
    "#c)\n",
    "\n",
    "T@C"
   ]
  },
  {
   "cell_type": "markdown",
   "id": "1ef33723-d537-49b0-a602-286406d53d0d",
   "metadata": {},
   "source": [
    "### 2 Rotate Crazy Hat"
   ]
  },
  {
   "cell_type": "markdown",
   "id": "67647c5b-61c3-4157-8f3c-14eae21888ef",
   "metadata": {},
   "source": [
    "#### 2.1"
   ]
  },
  {
   "cell_type": "code",
   "execution_count": 268,
   "id": "84f376c8-a3a8-4695-bbae-b711c252439b",
   "metadata": {},
   "outputs": [
    {
     "data": {
      "text/html": [
       "<div>\n",
       "<style scoped>\n",
       "    .dataframe tbody tr th:only-of-type {\n",
       "        vertical-align: middle;\n",
       "    }\n",
       "\n",
       "    .dataframe tbody tr th {\n",
       "        vertical-align: top;\n",
       "    }\n",
       "\n",
       "    .dataframe thead th {\n",
       "        text-align: right;\n",
       "    }\n",
       "</style>\n",
       "<table border=\"1\" class=\"dataframe\">\n",
       "  <thead>\n",
       "    <tr style=\"text-align: right;\">\n",
       "      <th></th>\n",
       "      <th>x</th>\n",
       "      <th>y</th>\n",
       "      <th>group</th>\n",
       "    </tr>\n",
       "  </thead>\n",
       "  <tbody>\n",
       "    <tr>\n",
       "      <th>0</th>\n",
       "      <td>0</td>\n",
       "      <td>22</td>\n",
       "      <td>outline</td>\n",
       "    </tr>\n",
       "    <tr>\n",
       "      <th>1</th>\n",
       "      <td>16</td>\n",
       "      <td>-18</td>\n",
       "      <td>outline</td>\n",
       "    </tr>\n",
       "    <tr>\n",
       "      <th>2</th>\n",
       "      <td>-16</td>\n",
       "      <td>-18</td>\n",
       "      <td>outline</td>\n",
       "    </tr>\n",
       "    <tr>\n",
       "      <th>3</th>\n",
       "      <td>0</td>\n",
       "      <td>22</td>\n",
       "      <td>outline</td>\n",
       "    </tr>\n",
       "    <tr>\n",
       "      <th>4</th>\n",
       "      <td>-3</td>\n",
       "      <td>7</td>\n",
       "      <td>leye</td>\n",
       "    </tr>\n",
       "  </tbody>\n",
       "</table>\n",
       "</div>"
      ],
      "text/plain": [
       "    x   y    group\n",
       "0   0  22  outline\n",
       "1  16 -18  outline\n",
       "2 -16 -18  outline\n",
       "3   0  22  outline\n",
       "4  -3   7     leye"
      ]
     },
     "execution_count": 268,
     "metadata": {},
     "output_type": "execute_result"
    }
   ],
   "source": [
    "#1\n",
    "ch = pd.read_csv(\"../Data/all-data/crazy-hat.tsv\", sep=\"\\t\") \n",
    "ch.head()"
   ]
  },
  {
   "cell_type": "markdown",
   "id": "a2c89f9d-8446-408d-9edc-e46610fcb796",
   "metadata": {},
   "source": [
    "#### 2.2"
   ]
  },
  {
   "cell_type": "code",
   "execution_count": 269,
   "id": "fc117c5b-c321-4124-aa05-ff18a57b1f66",
   "metadata": {},
   "outputs": [
    {
     "data": {
      "text/plain": [
       "(array([[  0,  22],\n",
       "        [ 16, -18],\n",
       "        [-16, -18],\n",
       "        [  0,  22],\n",
       "        [ -3,   7],\n",
       "        [ -3,  14],\n",
       "        [  2,   7],\n",
       "        [  2,  14],\n",
       "        [-11, -10],\n",
       "        [ -7, -17],\n",
       "        [ -3, -10],\n",
       "        [  2, -17],\n",
       "        [  6, -10],\n",
       "        [ 10, -17],\n",
       "        [ 12, -13]]),\n",
       " array(['outline', 'outline', 'outline', 'outline', 'leye', 'leye', 'reye',\n",
       "        'reye', 'mouth', 'mouth', 'mouth', 'mouth', 'mouth', 'mouth',\n",
       "        'mouth'], dtype=object))"
      ]
     },
     "execution_count": 269,
     "metadata": {},
     "output_type": "execute_result"
    }
   ],
   "source": [
    "X = ch[[\"x\", \"y\"]].values\n",
    "groups = ch.group.values\n",
    "X,groups"
   ]
  },
  {
   "cell_type": "markdown",
   "id": "a1793bdb-c830-4af1-a6bb-97501b3aac3b",
   "metadata": {},
   "source": [
    "#### 2.3"
   ]
  },
  {
   "cell_type": "code",
   "execution_count": 270,
   "id": "e23b4347-fbc6-43c5-9a79-1619b3a126c9",
   "metadata": {},
   "outputs": [
    {
     "data": {
      "image/png": "[encoded data removed]",
      "text/plain": [
       "<Figure size 432x288 with 1 Axes>"
      ]
     },
     "metadata": {
      "needs_background": "light"
     },
     "output_type": "display_data"
    }
   ],
   "source": [
    "unique_group = np.unique(groups)\n",
    "ax = plt.axes() \n",
    "for i in unique_group:\n",
    "    a = X[groups == i]\n",
    "    ax.set_aspect(\"equal\") \n",
    "    ax.plot(a[:,0],a[:,1], marker=\"o\")"
   ]
  },
  {
   "cell_type": "markdown",
   "id": "290ad40e-fd81-44aa-baa6-59eafbc67e34",
   "metadata": {},
   "source": [
    "#### 2.4"
   ]
  },
  {
   "cell_type": "code",
   "execution_count": 271,
   "id": "a0eed61b-7560-4fc2-bd4b-d50cbc8337d5",
   "metadata": {},
   "outputs": [
    {
     "data": {
      "image/png": "[encoded data removed]",
      "text/plain": [
       "<Figure size 432x288 with 1 Axes>"
      ]
     },
     "metadata": {
      "needs_background": "light"
     },
     "output_type": "display_data"
    }
   ],
   "source": [
    "def plot(X, groups):\n",
    "    ax = plt.axes() \n",
    "    for i in unique_group:\n",
    "        a = X[groups == i]\n",
    "        ax.set_aspect(\"equal\") \n",
    "        ax.plot(a[:,0],a[:,1], marker=\"o\")\n",
    "plot(X,groups)"
   ]
  },
  {
   "cell_type": "markdown",
   "id": "149869be-2c70-4fd7-b75e-cd9932c32837",
   "metadata": {},
   "source": [
    "#### 2.5"
   ]
  },
  {
   "cell_type": "code",
   "execution_count": 272,
   "id": "33ab2b77-8c13-4ab4-9473-9fa105e45280",
   "metadata": {},
   "outputs": [
    {
     "data": {
      "text/plain": [
       "array([[ 0.70710678, -0.70710678],\n",
       "       [ 0.70710678,  0.70710678]])"
      ]
     },
     "execution_count": 272,
     "metadata": {},
     "output_type": "execute_result"
    }
   ],
   "source": [
    "def Rot(alpha):\n",
    "    a = alpha*np.pi/180\n",
    "    ca = np.cos(a)\n",
    "    sa = np.sin(a)\n",
    "    r = np.array([[ca, -sa], [sa, ca]])\n",
    "    return r\n",
    "#Rot(0)\n",
    "Rot(45)"
   ]
  },
  {
   "cell_type": "markdown",
   "id": "10ba9e18-6853-4d67-b293-ce7a1609286d",
   "metadata": {},
   "source": [
    "#### 2.6"
   ]
  },
  {
   "cell_type": "code",
   "execution_count": 273,
   "id": "95ec666f-23be-4dce-a88c-f906362af85d",
   "metadata": {},
   "outputs": [
    {
     "data": {
      "image/png": "[encoded data removed]",
      "text/plain": [
       "<Figure size 432x288 with 1 Axes>"
      ]
     },
     "metadata": {
      "needs_background": "light"
     },
     "output_type": "display_data"
    }
   ],
   "source": [
    "plot(X @ Rot(45), groups)"
   ]
  },
  {
   "cell_type": "code",
   "execution_count": 274,
   "id": "0d75e61e-32a0-489f-a3ef-61b0464e7406",
   "metadata": {},
   "outputs": [
    {
     "data": {
      "image/png": "[encoded data removed]",
      "text/plain": [
       "<Figure size 432x288 with 1 Axes>"
      ]
     },
     "metadata": {
      "needs_background": "light"
     },
     "output_type": "display_data"
    }
   ],
   "source": [
    "plot(X @ Rot(90), groups)"
   ]
  },
  {
   "cell_type": "markdown",
   "id": "72e1e773-df94-4e75-805e-22780d1d4866",
   "metadata": {},
   "source": [
    "### 3 Linear transformation of images"
   ]
  },
  {
   "cell_type": "markdown",
   "id": "3e7d843d-09ab-4fa5-aad2-27390cdebd6f",
   "metadata": {},
   "source": [
    "#### 3.1.1"
   ]
  },
  {
   "cell_type": "code",
   "execution_count": 277,
   "id": "ef0493e8-6b53-4a9e-b8a4-1b56ceb21c9f",
   "metadata": {},
   "outputs": [],
   "source": [
    "Fx = np.array([[-1,0],\n",
    "              [0,1]])"
   ]
  },
  {
   "cell_type": "code",
   "execution_count": 278,
   "id": "5de9fe76-da72-443b-ac30-a57009d93aee",
   "metadata": {},
   "outputs": [],
   "source": [
    "A = np.array([[0,0],\n",
    "              [0,2],\n",
    "             [1,1]])"
   ]
  },
  {
   "cell_type": "code",
   "execution_count": 230,
   "id": "868eaa82-c1be-4a9b-9cf5-403ae1b3f3d4",
   "metadata": {},
   "outputs": [
    {
     "data": {
      "text/plain": [
       "array([[ 0,  0],\n",
       "       [ 0,  2],\n",
       "       [-1,  1]])"
      ]
     },
     "execution_count": 230,
     "metadata": {},
     "output_type": "execute_result"
    }
   ],
   "source": [
    "A@Fx"
   ]
  },
  {
   "cell_type": "markdown",
   "id": "df4cd76e-57c7-4fee-92cb-10eb96ac23c0",
   "metadata": {},
   "source": [
    "#### 3.1.2\n",
    "During the matrix mulitiplication, the operation is valid when the number of columns for the first matrix should be equal to the number of rows for the second the matrix; thus the first matrix which is 3 x 2 cannot multipled by 2 x 3 matrix. Since the result of matrix is 3 x 2, thus we need to find the rows of second matrix with same number of columns as the result. Thus, we need 2 x 2 matrix for Fx."
   ]
  },
  {
   "cell_type": "markdown",
   "id": "d3c29467-11d5-42ba-8f40-bbd9cf10eb17",
   "metadata": {},
   "source": [
    "#### 3.1.3"
   ]
  },
  {
   "cell_type": "code",
   "execution_count": 231,
   "id": "707b7767-ea33-421e-999d-3e52ab329c59",
   "metadata": {},
   "outputs": [
    {
     "data": {
      "image/png": "[encoded data removed]",
      "text/plain": [
       "<Figure size 432x288 with 1 Axes>"
      ]
     },
     "metadata": {
      "needs_background": "light"
     },
     "output_type": "display_data"
    }
   ],
   "source": [
    "plot(X @ Fx, groups)"
   ]
  },
  {
   "cell_type": "markdown",
   "id": "bd0eb1ad-12a0-4bf5-bce2-2c10c4ef9cde",
   "metadata": {},
   "source": [
    "#### 3.2.1"
   ]
  },
  {
   "cell_type": "code",
   "execution_count": 264,
   "id": "1312e336-20e0-44a0-8102-ff0bf36ddb5f",
   "metadata": {},
   "outputs": [],
   "source": [
    "def Sy(factor):\n",
    "    matrix = np.array([[1,0], \n",
    "                       [0,factor]])\n",
    "    return matrix"
   ]
  },
  {
   "cell_type": "code",
   "execution_count": 265,
   "id": "1206055f-cf37-4db1-a3f1-9afcf297f065",
   "metadata": {},
   "outputs": [
    {
     "data": {
      "image/png": "[encoded data removed]",
      "text/plain": [
       "<Figure size 432x288 with 1 Axes>"
      ]
     },
     "metadata": {
      "needs_background": "light"
     },
     "output_type": "display_data"
    }
   ],
   "source": [
    "# stretch by 2\n",
    "A = np.array([[0,0], [0,2], [1,1]]) @ Sy(2)\n",
    "ax = plt.axes()\n",
    "ax.plot(A[:,0], A[:,1], marker='o')\n",
    "ax.set_aspect(\"equal\")\n",
    "plt.show()"
   ]
  },
  {
   "cell_type": "markdown",
   "id": "247e9bed-83df-46fe-9add-311bf3bb432f",
   "metadata": {},
   "source": [
    "#### 3.2.2"
   ]
  },
  {
   "cell_type": "code",
   "execution_count": 279,
   "id": "5eea7582-6f9f-4997-bd15-254d00af67c7",
   "metadata": {},
   "outputs": [
    {
     "data": {
      "image/png": "[encoded data removed]",
      "text/plain": [
       "<Figure size 432x288 with 1 Axes>"
      ]
     },
     "metadata": {
      "needs_background": "light"
     },
     "output_type": "display_data"
    }
   ],
   "source": [
    "plot(X @ Sy(2), groups)"
   ]
  },
  {
   "cell_type": "markdown",
   "id": "37d8c6fd-3919-46b4-8ca7-562a983cd21d",
   "metadata": {},
   "source": [
    "#### 3.2.3"
   ]
  },
  {
   "cell_type": "code",
   "execution_count": 234,
   "id": "95d33bf0-f745-4d6d-9a54-24c2879a4b5e",
   "metadata": {},
   "outputs": [
    {
     "data": {
      "image/png": "[encoded data removed]",
      "text/plain": [
       "<Figure size 432x288 with 1 Axes>"
      ]
     },
     "metadata": {
      "needs_background": "light"
     },
     "output_type": "display_data"
    }
   ],
   "source": [
    "ax.set_aspect(\"equal\")\n",
    "A = X @ Rot(-45) @ Fx @ Sy(2) @ Rot(45)\n",
    "plot(A, groups)"
   ]
  },
  {
   "cell_type": "code",
   "execution_count": 235,
   "id": "6a117e4a-f8ed-49f3-a4a3-d34799ab6982",
   "metadata": {},
   "outputs": [
    {
     "data": {
      "image/png": "[encoded data removed]",
      "text/plain": [
       "<Figure size 432x288 with 1 Axes>"
      ]
     },
     "metadata": {
      "needs_background": "light"
     },
     "output_type": "display_data"
    }
   ],
   "source": [
    "A = np.array([[0,0], [0,2], [1,1]]) \n",
    "test = A @ Rot(-30) @ Fx @ Sy(2) @ Rot(30)\n",
    "ax = plt.axes()\n",
    "ax.plot(test[:,0], test[:,1], marker='o') \n",
    "ax.set_aspect(\"equal\")\n",
    "plt.show()"
   ]
  },
  {
   "cell_type": "markdown",
   "id": "7e0774fb-61f5-4d6a-8812-d160e3f614a7",
   "metadata": {},
   "source": [
    "#### 4.1 (a)"
   ]
  },
  {
   "cell_type": "code",
   "execution_count": 236,
   "id": "b617f789-e00e-41ea-97c0-c62024648f85",
   "metadata": {},
   "outputs": [
    {
     "name": "stdout",
     "output_type": "stream",
     "text": [
      "shape: (432, 482)\n"
     ]
    },
    {
     "data": {
      "image/png": "[encoded data removed]",
      "text/plain": [
       "<Figure size 216x216 with 1 Axes>"
      ]
     },
     "metadata": {
      "needs_background": "light"
     },
     "output_type": "display_data"
    }
   ],
   "source": [
    "from matplotlib.image import imread \n",
    "import matplotlib.pyplot as plt \n",
    "import numpy as np\n",
    "\n",
    "img = imread('../Data/all-data/krazy-kat.png')\n",
    "print(\"shape:\", img.shape)\n",
    "xx, yy = np.meshgrid(np.arange(img.shape[1]),\n",
    "np.arange(img.shape[0], 0, -1)) \n",
    "X = np.column_stack((xx.ravel(), yy.ravel()))\n",
    "fig = plt.figure(figsize=(3,3))\n",
    "ax = fig.add_subplot(1,1,1)\n",
    "ax.scatter(X[:,0], X[:,1], c=img.ravel(), marker='.', cmap=\"Greys_r\") \n",
    "ax.set_aspect('equal')\n",
    "plt.show()"
   ]
  },
  {
   "cell_type": "code",
   "execution_count": 237,
   "id": "ccf3ec1c-822d-4428-9f9c-c7a26f611ba1",
   "metadata": {},
   "outputs": [
    {
     "name": "stdout",
     "output_type": "stream",
     "text": [
      "[[  0 432]\n",
      " [  1 432]\n",
      " [  2 432]\n",
      " ...\n",
      " [479   1]\n",
      " [480   1]\n",
      " [481   1]]\n"
     ]
    }
   ],
   "source": [
    "print(X)"
   ]
  },
  {
   "cell_type": "markdown",
   "id": "3b9e75c0-78dd-496f-923c-6e894414f198",
   "metadata": {},
   "source": [
    "#### 4.1 (b)\n",
    "The matrix X is the image that takes two a sequence of 1-D arrays and stacks them as columns to make a single 2-D array. "
   ]
  },
  {
   "cell_type": "markdown",
   "id": "24dafe95-8c62-4fda-af87-d218db75a1ef",
   "metadata": {},
   "source": [
    "#### 4.1 (c)\n",
    "The X has a total of 208224 rows, which is the pixel coordinates and is conceptually the same as vertex coordinates\n",
    "for wireframe image."
   ]
  },
  {
   "cell_type": "code",
   "execution_count": 238,
   "id": "368bcd29-5e6c-4d99-8e67-b0645238160b",
   "metadata": {},
   "outputs": [
    {
     "data": {
      "text/plain": [
       "208224"
      ]
     },
     "execution_count": 238,
     "metadata": {},
     "output_type": "execute_result"
    }
   ],
   "source": [
    "len(X)"
   ]
  },
  {
   "cell_type": "markdown",
   "id": "db4c8db1-1cd9-47d1-809b-18e8231298aa",
   "metadata": {},
   "source": [
    "#### 4.1 (d)\n",
    "The first column of X denotes the horizontal position, the column of the original image\n",
    "matrix. The second column is the vertical position, the image row. It is 1 for each pixel in the first row, 2 for each pixel in the second row and so forth. For the three lines in the graph, the 36, 37 ,38 denotes the horizontal position from 36 to 38 image column. The 430 means the vertical position stays the 430 image row."
   ]
  },
  {
   "cell_type": "markdown",
   "id": "b2d14c72-c5a6-40e4-8975-8f3979a7e3fc",
   "metadata": {},
   "source": [
    "#### 4.1 (e)\n",
    "The img matrix denoted the gray value pixels. When the number is closer to 1, it means that the area is closer to light. When the area is closer to 0, it means that the color is closer to dark. For the value (0.9882353, 0.99215686, 0.99607843, 1), it means the gray intensity."
   ]
  },
  {
   "cell_type": "markdown",
   "id": "6e752314-3270-45f8-95d2-70223917f6c3",
   "metadata": {},
   "source": [
    "#### 4.2"
   ]
  },
  {
   "cell_type": "code",
   "execution_count": 239,
   "id": "247f91c2-40be-44fa-b7fc-ff09950a228b",
   "metadata": {},
   "outputs": [
    {
     "data": {
      "image/png": "[encoded data removed]",
      "text/plain": [
       "<Figure size 216x216 with 1 Axes>"
      ]
     },
     "metadata": {
      "needs_background": "light"
     },
     "output_type": "display_data"
    }
   ],
   "source": [
    "A = X @ Rot(-45)\n",
    "fig = plt.figure(figsize=(3,3))\n",
    "ax = fig.add_subplot(1,1,1)\n",
    "ax.scatter(A[:,0], A[:,1], c=img.ravel(), marker='.', cmap=\"Greys_r\") \n",
    "ax.set_aspect('equal')\n",
    "plt.savefig(\"rotate1\")"
   ]
  },
  {
   "cell_type": "markdown",
   "id": "fc78396b-aa17-45df-9eea-9b7e9a6f5a35",
   "metadata": {},
   "source": [
    "![krazy-kat rotate1](rotate1.png)"
   ]
  },
  {
   "cell_type": "code",
   "execution_count": 240,
   "id": "96f28336-901e-47de-b3da-0d12921a88f3",
   "metadata": {},
   "outputs": [
    {
     "data": {
      "image/png": "[encoded data removed]",
      "text/plain": [
       "<Figure size 216x216 with 1 Axes>"
      ]
     },
     "metadata": {
      "needs_background": "light"
     },
     "output_type": "display_data"
    }
   ],
   "source": [
    "B = X @ Rot(90)\n",
    "fig = plt.figure(figsize=(3,3))\n",
    "ax = fig.add_subplot(1,1,1)\n",
    "ax.scatter(B[:,0], B[:,1], c=img.ravel(), marker='.', cmap=\"Greys_r\") \n",
    "ax.set_aspect('equal')\n",
    "plt.savefig(\"rotate2\")"
   ]
  },
  {
   "cell_type": "markdown",
   "id": "0164c61c-33ce-4b40-8bb6-fa06cf372f8c",
   "metadata": {},
   "source": [
    "![krazy-kat rotate2](rotate2.png)"
   ]
  },
  {
   "cell_type": "markdown",
   "id": "14583de6-6300-4447-94cb-efe5ac9cc229",
   "metadata": {},
   "source": [
    "#### 4.3"
   ]
  },
  {
   "cell_type": "code",
   "execution_count": 241,
   "id": "2a248ac9-04fd-4f23-9709-ec5402b8ace2",
   "metadata": {},
   "outputs": [
    {
     "data": {
      "image/png": "[encoded data removed]",
      "text/plain": [
       "<Figure size 216x216 with 1 Axes>"
      ]
     },
     "metadata": {
      "needs_background": "light"
     },
     "output_type": "display_data"
    }
   ],
   "source": [
    "C = X @ Fx\n",
    "fig = plt.figure(figsize=(3,3))\n",
    "ax = fig.add_subplot(1,1,1)\n",
    "ax.scatter(C[:,0], C[:,1], c=img.ravel(), marker='.', cmap=\"Greys_r\") \n",
    "ax.set_aspect('equal')\n",
    "plt.savefig(\"rotate3\")"
   ]
  },
  {
   "cell_type": "markdown",
   "id": "4162a177-9dd0-4a3b-a35d-771a22a8679b",
   "metadata": {},
   "source": [
    "![krazy-kat rotate3](rotate3.png)"
   ]
  },
  {
   "cell_type": "code",
   "execution_count": 242,
   "id": "26bcbed0-f929-43ab-b23f-4a75fef74337",
   "metadata": {},
   "outputs": [
    {
     "data": {
      "image/png": "[encoded data removed]",
      "text/plain": [
       "<Figure size 216x216 with 1 Axes>"
      ]
     },
     "metadata": {
      "needs_background": "light"
     },
     "output_type": "display_data"
    }
   ],
   "source": [
    "D = X @ Sy(5)\n",
    "fig = plt.figure(figsize=(3,3))\n",
    "ax = fig.add_subplot(1,1,1)\n",
    "ax.scatter(D[:,0], D[:,1], c=img.ravel(), marker='.', cmap=\"Greys_r\") \n",
    "ax.set_aspect('equal')\n",
    "plt.savefig(\"rotate4\")"
   ]
  },
  {
   "cell_type": "markdown",
   "id": "061a0aa1-e420-4b8c-b144-fb2ff3473117",
   "metadata": {},
   "source": [
    "![krazy-kat rotate4](rotate4.png)"
   ]
  },
  {
   "cell_type": "markdown",
   "id": "a0105a80-1af1-4cd7-8845-7152c48edc1f",
   "metadata": {},
   "source": [
    "### 5 Linear Regression"
   ]
  },
  {
   "cell_type": "markdown",
   "id": "010e7fc0-b98d-4533-b097-d478441e8646",
   "metadata": {},
   "source": [
    "#### 5.1"
   ]
  },
  {
   "cell_type": "code",
   "execution_count": 243,
   "id": "2a624d6e-d1dd-46b4-84ab-2ac3f13d2e51",
   "metadata": {},
   "outputs": [
    {
     "data": {
      "text/html": [
       "<div>\n",
       "<style scoped>\n",
       "    .dataframe tbody tr th:only-of-type {\n",
       "        vertical-align: middle;\n",
       "    }\n",
       "\n",
       "    .dataframe tbody tr th {\n",
       "        vertical-align: top;\n",
       "    }\n",
       "\n",
       "    .dataframe thead th {\n",
       "        text-align: right;\n",
       "    }\n",
       "</style>\n",
       "<table border=\"1\" class=\"dataframe\">\n",
       "  <thead>\n",
       "    <tr style=\"text-align: right;\">\n",
       "      <th></th>\n",
       "      <th>crim</th>\n",
       "      <th>zn</th>\n",
       "      <th>indus</th>\n",
       "      <th>chas</th>\n",
       "      <th>nox</th>\n",
       "      <th>rm</th>\n",
       "      <th>age</th>\n",
       "      <th>dis</th>\n",
       "      <th>rad</th>\n",
       "      <th>tax</th>\n",
       "      <th>ptratio</th>\n",
       "      <th>black</th>\n",
       "      <th>lstat</th>\n",
       "      <th>medv</th>\n",
       "    </tr>\n",
       "  </thead>\n",
       "  <tbody>\n",
       "    <tr>\n",
       "      <th>0</th>\n",
       "      <td>0.00632</td>\n",
       "      <td>18.0</td>\n",
       "      <td>2.31</td>\n",
       "      <td>0</td>\n",
       "      <td>0.538</td>\n",
       "      <td>6.575</td>\n",
       "      <td>65.2</td>\n",
       "      <td>4.0900</td>\n",
       "      <td>1</td>\n",
       "      <td>296</td>\n",
       "      <td>15.3</td>\n",
       "      <td>396.90</td>\n",
       "      <td>4.98</td>\n",
       "      <td>24.0</td>\n",
       "    </tr>\n",
       "    <tr>\n",
       "      <th>1</th>\n",
       "      <td>0.02731</td>\n",
       "      <td>0.0</td>\n",
       "      <td>7.07</td>\n",
       "      <td>0</td>\n",
       "      <td>0.469</td>\n",
       "      <td>6.421</td>\n",
       "      <td>78.9</td>\n",
       "      <td>4.9671</td>\n",
       "      <td>2</td>\n",
       "      <td>242</td>\n",
       "      <td>17.8</td>\n",
       "      <td>396.90</td>\n",
       "      <td>9.14</td>\n",
       "      <td>21.6</td>\n",
       "    </tr>\n",
       "    <tr>\n",
       "      <th>2</th>\n",
       "      <td>0.02729</td>\n",
       "      <td>0.0</td>\n",
       "      <td>7.07</td>\n",
       "      <td>0</td>\n",
       "      <td>0.469</td>\n",
       "      <td>7.185</td>\n",
       "      <td>61.1</td>\n",
       "      <td>4.9671</td>\n",
       "      <td>2</td>\n",
       "      <td>242</td>\n",
       "      <td>17.8</td>\n",
       "      <td>392.83</td>\n",
       "      <td>4.03</td>\n",
       "      <td>34.7</td>\n",
       "    </tr>\n",
       "    <tr>\n",
       "      <th>3</th>\n",
       "      <td>0.03237</td>\n",
       "      <td>0.0</td>\n",
       "      <td>2.18</td>\n",
       "      <td>0</td>\n",
       "      <td>0.458</td>\n",
       "      <td>6.998</td>\n",
       "      <td>45.8</td>\n",
       "      <td>6.0622</td>\n",
       "      <td>3</td>\n",
       "      <td>222</td>\n",
       "      <td>18.7</td>\n",
       "      <td>394.63</td>\n",
       "      <td>2.94</td>\n",
       "      <td>33.4</td>\n",
       "    </tr>\n",
       "    <tr>\n",
       "      <th>4</th>\n",
       "      <td>0.06905</td>\n",
       "      <td>0.0</td>\n",
       "      <td>2.18</td>\n",
       "      <td>0</td>\n",
       "      <td>0.458</td>\n",
       "      <td>7.147</td>\n",
       "      <td>54.2</td>\n",
       "      <td>6.0622</td>\n",
       "      <td>3</td>\n",
       "      <td>222</td>\n",
       "      <td>18.7</td>\n",
       "      <td>396.90</td>\n",
       "      <td>5.33</td>\n",
       "      <td>36.2</td>\n",
       "    </tr>\n",
       "  </tbody>\n",
       "</table>\n",
       "</div>"
      ],
      "text/plain": [
       "      crim    zn  indus  chas    nox     rm   age     dis  rad  tax  ptratio  \\\n",
       "0  0.00632  18.0   2.31     0  0.538  6.575  65.2  4.0900    1  296     15.3   \n",
       "1  0.02731   0.0   7.07     0  0.469  6.421  78.9  4.9671    2  242     17.8   \n",
       "2  0.02729   0.0   7.07     0  0.469  7.185  61.1  4.9671    2  242     17.8   \n",
       "3  0.03237   0.0   2.18     0  0.458  6.998  45.8  6.0622    3  222     18.7   \n",
       "4  0.06905   0.0   2.18     0  0.458  7.147  54.2  6.0622    3  222     18.7   \n",
       "\n",
       "    black  lstat  medv  \n",
       "0  396.90   4.98  24.0  \n",
       "1  396.90   9.14  21.6  \n",
       "2  392.83   4.03  34.7  \n",
       "3  394.63   2.94  33.4  \n",
       "4  396.90   5.33  36.2  "
      ]
     },
     "execution_count": 243,
     "metadata": {},
     "output_type": "execute_result"
    }
   ],
   "source": [
    "bdata = pd.read_csv(\"../Data/all-data/boston.csv.bz2\", sep=\"\\t\") \n",
    "bdata.head()"
   ]
  },
  {
   "cell_type": "markdown",
   "id": "12096e90-d1cf-45f7-92bf-5bf677896a2d",
   "metadata": {},
   "source": [
    "#### 5.2"
   ]
  },
  {
   "cell_type": "code",
   "execution_count": 248,
   "id": "fbc8b828-2de2-40ec-9fff-38294b495aa1",
   "metadata": {},
   "outputs": [
    {
     "data": {
      "text/html": [
       "<table class=\"simpletable\">\n",
       "<caption>OLS Regression Results</caption>\n",
       "<tr>\n",
       "  <th>Dep. Variable:</th>          <td>medv</td>       <th>  R-squared:         </th> <td>   0.640</td> \n",
       "</tr>\n",
       "<tr>\n",
       "  <th>Model:</th>                   <td>OLS</td>       <th>  Adj. R-squared:    </th> <td>   0.638</td> \n",
       "</tr>\n",
       "<tr>\n",
       "  <th>Method:</th>             <td>Least Squares</td>  <th>  F-statistic:       </th> <td>   297.3</td> \n",
       "</tr>\n",
       "<tr>\n",
       "  <th>Date:</th>             <td>Sun, 24 Apr 2022</td> <th>  Prob (F-statistic):</th> <td>6.65e-111</td>\n",
       "</tr>\n",
       "<tr>\n",
       "  <th>Time:</th>                 <td>23:26:44</td>     <th>  Log-Likelihood:    </th> <td> -1581.8</td> \n",
       "</tr>\n",
       "<tr>\n",
       "  <th>No. Observations:</th>      <td>   506</td>      <th>  AIC:               </th> <td>   3172.</td> \n",
       "</tr>\n",
       "<tr>\n",
       "  <th>Df Residuals:</th>          <td>   502</td>      <th>  BIC:               </th> <td>   3189.</td> \n",
       "</tr>\n",
       "<tr>\n",
       "  <th>Df Model:</th>              <td>     3</td>      <th>                     </th>     <td> </td>    \n",
       "</tr>\n",
       "<tr>\n",
       "  <th>Covariance Type:</th>      <td>nonrobust</td>    <th>                     </th>     <td> </td>    \n",
       "</tr>\n",
       "</table>\n",
       "<table class=\"simpletable\">\n",
       "<tr>\n",
       "      <td></td>         <th>coef</th>     <th>std err</th>      <th>t</th>      <th>P>|t|</th>  <th>[0.025</th>    <th>0.975]</th>  \n",
       "</tr>\n",
       "<tr>\n",
       "  <th>Intercept</th> <td>   -1.4606</td> <td>    3.171</td> <td>   -0.461</td> <td> 0.645</td> <td>   -7.691</td> <td>    4.770</td>\n",
       "</tr>\n",
       "<tr>\n",
       "  <th>rm</th>        <td>    5.0455</td> <td>    0.446</td> <td>   11.324</td> <td> 0.000</td> <td>    4.170</td> <td>    5.921</td>\n",
       "</tr>\n",
       "<tr>\n",
       "  <th>lstat</th>     <td>   -0.6240</td> <td>    0.046</td> <td>  -13.644</td> <td> 0.000</td> <td>   -0.714</td> <td>   -0.534</td>\n",
       "</tr>\n",
       "<tr>\n",
       "  <th>zn</th>        <td>    0.0158</td> <td>    0.012</td> <td>    1.359</td> <td> 0.175</td> <td>   -0.007</td> <td>    0.039</td>\n",
       "</tr>\n",
       "</table>\n",
       "<table class=\"simpletable\">\n",
       "<tr>\n",
       "  <th>Omnibus:</th>       <td>150.432</td> <th>  Durbin-Watson:     </th> <td>   0.824</td> \n",
       "</tr>\n",
       "<tr>\n",
       "  <th>Prob(Omnibus):</th> <td> 0.000</td>  <th>  Jarque-Bera (JB):  </th> <td> 487.567</td> \n",
       "</tr>\n",
       "<tr>\n",
       "  <th>Skew:</th>          <td> 1.376</td>  <th>  Prob(JB):          </th> <td>1.34e-106</td>\n",
       "</tr>\n",
       "<tr>\n",
       "  <th>Kurtosis:</th>      <td> 6.943</td>  <th>  Cond. No.          </th> <td>    343.</td> \n",
       "</tr>\n",
       "</table><br/><br/>Notes:<br/>[1] Standard Errors assume that the covariance matrix of the errors is correctly specified."
      ],
      "text/plain": [
       "<class 'statsmodels.iolib.summary.Summary'>\n",
       "\"\"\"\n",
       "                            OLS Regression Results                            \n",
       "==============================================================================\n",
       "Dep. Variable:                   medv   R-squared:                       0.640\n",
       "Model:                            OLS   Adj. R-squared:                  0.638\n",
       "Method:                 Least Squares   F-statistic:                     297.3\n",
       "Date:                Sun, 24 Apr 2022   Prob (F-statistic):          6.65e-111\n",
       "Time:                        23:26:44   Log-Likelihood:                -1581.8\n",
       "No. Observations:                 506   AIC:                             3172.\n",
       "Df Residuals:                     502   BIC:                             3189.\n",
       "Df Model:                           3                                         \n",
       "Covariance Type:            nonrobust                                         \n",
       "==============================================================================\n",
       "                 coef    std err          t      P>|t|      [0.025      0.975]\n",
       "------------------------------------------------------------------------------\n",
       "Intercept     -1.4606      3.171     -0.461      0.645      -7.691       4.770\n",
       "rm             5.0455      0.446     11.324      0.000       4.170       5.921\n",
       "lstat         -0.6240      0.046    -13.644      0.000      -0.714      -0.534\n",
       "zn             0.0158      0.012      1.359      0.175      -0.007       0.039\n",
       "==============================================================================\n",
       "Omnibus:                      150.432   Durbin-Watson:                   0.824\n",
       "Prob(Omnibus):                  0.000   Jarque-Bera (JB):              487.567\n",
       "Skew:                           1.376   Prob(JB):                    1.34e-106\n",
       "Kurtosis:                       6.943   Cond. No.                         343.\n",
       "==============================================================================\n",
       "\n",
       "Notes:\n",
       "[1] Standard Errors assume that the covariance matrix of the errors is correctly specified.\n",
       "\"\"\""
      ]
     },
     "execution_count": 248,
     "metadata": {},
     "output_type": "execute_result"
    }
   ],
   "source": [
    "from pandas import DataFrame\n",
    "import statsmodels.formula.api as smf\n",
    "model1 = smf.ols(formula='medv ~ rm+lstat+zn', data=bdata).fit()\n",
    "model1.summary()"
   ]
  },
  {
   "cell_type": "markdown",
   "id": "5788bd63-a75a-4677-94e7-4a98aa2537ea",
   "metadata": {},
   "source": [
    "#### 5.3"
   ]
  },
  {
   "cell_type": "code",
   "execution_count": 281,
   "id": "44c012ad-fc08-427b-b741-01d65945b3e9",
   "metadata": {},
   "outputs": [],
   "source": [
    "ones = np.ones(506)\n",
    "treat_X = bdata[[\"rm\", \"lstat\", \"zn\"]].values\n",
    "X = np.column_stack((ones, treat_X))"
   ]
  },
  {
   "cell_type": "markdown",
   "id": "69ee4ddc-a399-41ca-9803-4c88c47b1323",
   "metadata": {},
   "source": [
    "#### 5.4"
   ]
  },
  {
   "cell_type": "code",
   "execution_count": 282,
   "id": "31726ca0-e7fb-4956-8817-849b67e3c2ed",
   "metadata": {},
   "outputs": [],
   "source": [
    "y = bdata[[\"medv\"]].values"
   ]
  },
  {
   "cell_type": "markdown",
   "id": "34e8eeb7-8497-46f7-8550-ae151b885c05",
   "metadata": {},
   "source": [
    "#### 5.5"
   ]
  },
  {
   "cell_type": "code",
   "execution_count": 283,
   "id": "09eb7e2e-d16e-438b-aa6c-f7af00d3bdea",
   "metadata": {},
   "outputs": [
    {
     "data": {
      "text/plain": [
       "array([[-1.46057734],\n",
       "       [ 5.04554308],\n",
       "       [-0.62401045],\n",
       "       [ 0.01580778]])"
      ]
     },
     "execution_count": 283,
     "metadata": {},
     "output_type": "execute_result"
    }
   ],
   "source": [
    "np.linalg.inv(X.T@X)@X.T@y"
   ]
  },
  {
   "cell_type": "markdown",
   "id": "fb7a1038-420e-484f-80d0-3168354743e9",
   "metadata": {},
   "source": [
    "The results of my computed β estimate is as same as the result from the linear regression table."
   ]
  }
 ],
 "metadata": {
  "kernelspec": {
   "display_name": "Python 3",
   "language": "python",
   "name": "python3"
  },
  "language_info": {
   "codemirror_mode": {
    "name": "ipython",
    "version": 3
   },
   "file_extension": ".py",
   "mimetype": "text/x-python",
   "name": "python",
   "nbconvert_exporter": "python",
   "pygments_lexer": "ipython3",
   "version": "3.8.8"
  }
 },
 "nbformat": 4,
 "nbformat_minor": 5
}
